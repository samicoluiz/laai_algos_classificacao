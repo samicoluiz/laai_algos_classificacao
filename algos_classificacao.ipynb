{
 "cells": [
  {
   "attachments": {},
   "cell_type": "markdown",
   "metadata": {},
   "source": [
    "# Preâmbulo\n",
    "Inteligência artificial, aprendizagem de máquina e estatística são campos fundamentalmente entrelaçados, assim sendo, antes de tratar de processos de classificão propriamente ditos devemos relembrar de alguns conceitos fundamentais de estatística para verdadeiramente compreender  os algoritmos tratados adiante.\n",
    "\n",
    "## Medidas de Posição\n",
    "* Média\n",
    "* Mediana\n",
    "* Moda\n",
    "* Percentis\n",
    "\n",
    "O objetivo de um algoritmo de ML é fazer uma predição mais fundamentada do que um mero chute. Uma das formas mais rudimentares de fazer isso é através da média. Observe o código à seguir."
   ]
  },
  {
   "attachments": {},
   "cell_type": "markdown",
   "metadata": {},
   "source": [
    "# Técnicas de Classificação\n",
    "Os algoritmos de aprendizagem de máquina são comumente dívididos em duas famílias: algoritmos de aprendizagem _supervisionada_ e de aprendizagem _não-supervisionada_. Antes de passarmos ao estudo dos algoritmos de classificação propriamente ditos, é preciso compreender alguns conceitos relacionados a essas diferenças, e para isso vamos recorrer a um exemplo.\n",
    "\n",
    "Imagine que em uma academia de esportes os novos clientes passam por testes físicos para definir a sua afinidade esportiva. Primeiramente, os examinados são submetidos a uma corrida de 100m, e o tempo em segundos é inserido na base de dados como `var1`. Em seguinda, os examinados precisam correr uma longa distância e o tempo em segundos é inserido na base de dados como `var2`. Por fim, os candidatos precisam levantar pesos, e o peso máximo levantado em kgs é inserido na base de dados como `var3`. Perceba que esses dados por si só não têm capacidade de indicar a afinidade esportiva de um candidato.\n",
    "\n",
    "Almejando obter mais informação sobre os examinados, um profissional de educação física sugere renomear as colunas `var1`, `var2` e `var3` para `velocidade`, `resistência` e `força`, respectivamente. Além disso, foi criada uma variável nova, chamada `aptidao`, onde cada observação poderia receber uma das seguintes categorias `atletismo`, `futebol`, `fisiculturismo`, e o profissional atribuiu à cada cliente uma categoria com base nos seus resultados.\n",
    "\n",
    "Note que ao fazer isso foi introduzido significado para as variáveis, possibilitando a análise da variável `aptidao` em _relação às demais_. Essa variável `aptidao` é a etiqueta (ou label) dos dados para o problema posto. Note que a etiqueta de um conjunto de dados depende do problema a ser resolvido, e um mesmo conjunto pode ser considerado etiquetado, ou não, dependendo do que se deseja analisar.\n",
    "\n",
    "Fundamentalmente os algorítmos de aprendizagem não supervisionada se preocupam com tarefas de _agrupamento_, _etiquetagem_, e de _redução de dimensionalidade_ aplicados em dados não etiquetados, habitualmente empregados em uma fase preparatória, anterior à aplicação de algoritmos de aprendizagem supervisionada.\n",
    "\n",
    "Os algoritmos de aprendizagem supervisionada, por sua vez, são empregados para resolver dois tipos de problema: __regressão__ e __classificação__.\n",
    "\n",
    "Os algoritmos de regressão se encarregam de receber dados e fornecer uma variável contínua (um número real) como saída. Por exemplo, dado que o cliente x correu 100m em 20 segundos, ele é estimado a correr a longa distância em x segundos. O algoritmo mais conhecido dessa família é a regressão linear.\n",
    "\n",
    "Por sua vez, os algoritmos de classificação se ocupam das variáveis categóricas discretas, um estado dentre um número finito de possibilidades. Por exemplo, dado os resultados das outras variáveis, o melhor esporte para o cliente é: `fisiculturismo`. Um algoritmo bastante conhecido dessa família é a árvore de decisão.\n",
    "\n",
    "Nesta apresentação serão abordados os seguintes algoritmos de classificação:\n",
    "* Regressão Logística\n",
    "* Support Vector Machine (SVM)\n",
    "* Árvore de Decisão (Decision Tree)\n",
    "* Floresta Aleatória (Random Forest)\n"
   ]
  },
  {
   "cell_type": "code",
   "execution_count": 237,
   "metadata": {},
   "outputs": [],
   "source": [
    "import pandas as pd\n",
    "import numpy as np\n",
    "import matplotlib.pyplot as plt\n",
    "from sklearn.metrics import mean_squared_error"
   ]
  },
  {
   "cell_type": "code",
   "execution_count": 238,
   "metadata": {},
   "outputs": [
    {
     "data": {
      "text/html": [
       "<div>\n",
       "<style scoped>\n",
       "    .dataframe tbody tr th:only-of-type {\n",
       "        vertical-align: middle;\n",
       "    }\n",
       "\n",
       "    .dataframe tbody tr th {\n",
       "        vertical-align: top;\n",
       "    }\n",
       "\n",
       "    .dataframe thead th {\n",
       "        text-align: right;\n",
       "    }\n",
       "</style>\n",
       "<table border=\"1\" class=\"dataframe\">\n",
       "  <thead>\n",
       "    <tr style=\"text-align: right;\">\n",
       "      <th></th>\n",
       "      <th>x1</th>\n",
       "      <th>x2</th>\n",
       "      <th>chute</th>\n",
       "      <th>media</th>\n",
       "    </tr>\n",
       "  </thead>\n",
       "  <tbody>\n",
       "    <tr>\n",
       "      <th>0</th>\n",
       "      <td>0.789822</td>\n",
       "      <td>1.221715</td>\n",
       "      <td>-1.728217</td>\n",
       "      <td>0</td>\n",
       "    </tr>\n",
       "    <tr>\n",
       "      <th>1</th>\n",
       "      <td>-1.104131</td>\n",
       "      <td>0.214628</td>\n",
       "      <td>0.121700</td>\n",
       "      <td>0</td>\n",
       "    </tr>\n",
       "    <tr>\n",
       "      <th>2</th>\n",
       "      <td>-0.662263</td>\n",
       "      <td>-0.158551</td>\n",
       "      <td>-1.886484</td>\n",
       "      <td>0</td>\n",
       "    </tr>\n",
       "    <tr>\n",
       "      <th>3</th>\n",
       "      <td>-0.620353</td>\n",
       "      <td>-0.192445</td>\n",
       "      <td>1.408502</td>\n",
       "      <td>0</td>\n",
       "    </tr>\n",
       "    <tr>\n",
       "      <th>4</th>\n",
       "      <td>0.812618</td>\n",
       "      <td>-0.799088</td>\n",
       "      <td>1.552059</td>\n",
       "      <td>0</td>\n",
       "    </tr>\n",
       "  </tbody>\n",
       "</table>\n",
       "</div>"
      ],
      "text/plain": [
       "         x1        x2     chute  media\n",
       "0  0.789822  1.221715 -1.728217      0\n",
       "1 -1.104131  0.214628  0.121700      0\n",
       "2 -0.662263 -0.158551 -1.886484      0\n",
       "3 -0.620353 -0.192445  1.408502      0\n",
       "4  0.812618 -0.799088  1.552059      0"
      ]
     },
     "execution_count": 238,
     "metadata": {},
     "output_type": "execute_result"
    }
   ],
   "source": [
    "# Criando uma base de dados com 100 linhas e 2 colunas, e valores variando entre 0 e 1\n",
    "df_pre = pd.DataFrame(np.random.normal(0, 1, size=(100, 2)), columns=['x1', 'x2'])\n",
    "# Tentando prever os valores de x2 através de chutes aleatórios e armazenndo os resultados em uma nova coluna 'chute'\n",
    "df_pre[\"chute\"] = np.random.default_rng().uniform(-2, 2, size=(100))\n",
    "# Tentando prever os valores de x2 utilizando a média e armazenando os resultados em uma nova coluna 'media'\n",
    "df_pre[\"media\"] = 0\n",
    "df_pre.head()"
   ]
  },
  {
   "attachments": {},
   "cell_type": "markdown",
   "metadata": {},
   "source": [
    "Para avaliar a acurácia da nossa predição, calculamos o erro quadrado médio (mean squared error, MSE) entre os resultados reais e as nosssas predições. O cálculo é simples, para um ponto, verificamos a diferença entre a predição e o resultado real e elevamos ao quadrado. Este é o erro quadrado daquele ponto. O erro quadrado médio do modelo consiste na média da soma dos quadrados das diferenças entre os resultados reais e os resultados preditos, divididos pelo tamanho da amostra. Em matematiquês:\n",
    "$$MSE=\\frac{1}{N}\\sum_{i=1}^n(Y_i-\\hat{Y}_i)^2$$\n",
    "\n",
    "Usamos a função `mean_squared_error()` da biblioteca scikit_learn para calcular o MSE do nosso modelo."
   ]
  },
  {
   "cell_type": "code",
   "execution_count": 239,
   "metadata": {},
   "outputs": [
    {
     "data": {
      "text/plain": [
       "[<matplotlib.lines.Line2D at 0x26fbfa3c340>]"
      ]
     },
     "execution_count": 239,
     "metadata": {},
     "output_type": "execute_result"
    },
    {
     "data": {
      "image/png": "[encoded data removed]",
      "text/plain": [
       "<Figure size 640x480 with 1 Axes>"
      ]
     },
     "metadata": {},
     "output_type": "display_data"
    }
   ],
   "source": [
    "ax1 = df_pre.plot(kind='scatter', x='x1', y='x2')\n",
    "ax2 = df_pre.plot(kind='scatter', x='x1', y='media', c='green', alpha=.5, ax=ax1)\n",
    "ax3 = df_pre.plot(kind='scatter', x='x1', y='chute', c='yellow', alpha=.5, ax=ax1)\n",
    "# linha da média\n",
    "plt.plot([-3, 3], [0, 0], color='green', alpha=.3, linestyle='-')"
   ]
  },
  {
   "cell_type": "code",
   "execution_count": 240,
   "metadata": {},
   "outputs": [
    {
     "name": "stdout",
     "output_type": "stream",
     "text": [
      "Erro quadrado médio do chute:  2.381784304187899\n",
      "Erro quadrado médio da média:  0.8232530161607753\n"
     ]
    }
   ],
   "source": [
    "mse_chute = mean_squared_error(df_pre['x2'], df_pre['chute'])\n",
    "mse_media = mean_squared_error(df_pre['x2'], df_pre['media'])\n",
    "print(\"Erro quadrado médio do chute: \", mse_chute)\n",
    "print(\"Erro quadrado médio da média: \", mse_media)"
   ]
  },
  {
   "attachments": {},
   "cell_type": "markdown",
   "metadata": {},
   "source": [
    "## Criando o exemplo em código\n",
    "Iniciamos com a importação das bibliotecas. As bibliotecas `pandas`, `numpy` e `matplotlib` são usados na grande maioria das tarefas de ML quando utilizamos a linguagem Python, portanto, aprender a utilizar essas bibliotecas é fundamental.\n",
    "> Uma tarefa importante no estudo de machine learning é a criação de exemplos, tanto dos dados, quanto dos algoritmos. Ser capaz de construir um conjunto ficcional de dados é importante para a demonstração de técnicas de implementação, e construir os algoritmos a partir do zero é importante para desenvolver a intuição por trás dos algoritmos."
   ]
  },
  {
   "cell_type": "code",
   "execution_count": 241,
   "metadata": {},
   "outputs": [],
   "source": [
    "# Importando as bibliotecas\n",
    "import numpy as np\n",
    "import pandas as pd\n",
    "from matplotlib import pyplot as plt\n",
    "from sklearn import tree # implementação de árvore de decisão do sklearn"
   ]
  },
  {
   "cell_type": "code",
   "execution_count": 242,
   "metadata": {},
   "outputs": [
    {
     "data": {
      "text/html": [
       "<div>\n",
       "<style scoped>\n",
       "    .dataframe tbody tr th:only-of-type {\n",
       "        vertical-align: middle;\n",
       "    }\n",
       "\n",
       "    .dataframe tbody tr th {\n",
       "        vertical-align: top;\n",
       "    }\n",
       "\n",
       "    .dataframe thead th {\n",
       "        text-align: right;\n",
       "    }\n",
       "</style>\n",
       "<table border=\"1\" class=\"dataframe\">\n",
       "  <thead>\n",
       "    <tr style=\"text-align: right;\">\n",
       "      <th></th>\n",
       "      <th>velocidade</th>\n",
       "      <th>resistencia</th>\n",
       "      <th>potencia</th>\n",
       "    </tr>\n",
       "  </thead>\n",
       "  <tbody>\n",
       "    <tr>\n",
       "      <th>0</th>\n",
       "      <td>13.612301</td>\n",
       "      <td>6763.845870</td>\n",
       "      <td>74.433526</td>\n",
       "    </tr>\n",
       "    <tr>\n",
       "      <th>1</th>\n",
       "      <td>13.111519</td>\n",
       "      <td>6219.595699</td>\n",
       "      <td>58.245910</td>\n",
       "    </tr>\n",
       "    <tr>\n",
       "      <th>2</th>\n",
       "      <td>15.169221</td>\n",
       "      <td>5689.201068</td>\n",
       "      <td>61.372055</td>\n",
       "    </tr>\n",
       "    <tr>\n",
       "      <th>3</th>\n",
       "      <td>15.974947</td>\n",
       "      <td>6417.389057</td>\n",
       "      <td>71.793355</td>\n",
       "    </tr>\n",
       "    <tr>\n",
       "      <th>4</th>\n",
       "      <td>13.407601</td>\n",
       "      <td>6151.047780</td>\n",
       "      <td>91.389323</td>\n",
       "    </tr>\n",
       "  </tbody>\n",
       "</table>\n",
       "</div>"
      ],
      "text/plain": [
       "   velocidade  resistencia   potencia\n",
       "0   13.612301  6763.845870  74.433526\n",
       "1   13.111519  6219.595699  58.245910\n",
       "2   15.169221  5689.201068  61.372055\n",
       "3   15.974947  6417.389057  71.793355\n",
       "4   13.407601  6151.047780  91.389323"
      ]
     },
     "execution_count": 242,
     "metadata": {},
     "output_type": "execute_result"
    }
   ],
   "source": [
    "# Usando a distribuição normal para gerar dados aleatórios\n",
    "velocidade = np.random.normal(14, 1.5, 100)\n",
    "resistencia = np.random.normal(6180, 500, 100)\n",
    "potencia = np.random.normal(70, 15, 100)\n",
    "df = pd.DataFrame({'velocidade': velocidade, 'resistencia': resistencia, 'potencia': potencia})\n",
    "df.head()"
   ]
  },
  {
   "cell_type": "code",
   "execution_count": 243,
   "metadata": {},
   "outputs": [
    {
     "name": "stdout",
     "output_type": "stream",
     "text": [
      "       velocidade  resistencia    potencia\n",
      "count  100.000000   100.000000  100.000000\n",
      "mean    14.138246  6175.744087   71.095185\n",
      "std      1.543775   462.201054   15.634509\n",
      "min     10.646153  4947.872174   31.568375\n",
      "25%     13.119503  5879.303122   60.186578\n",
      "50%     13.953833  6187.596509   71.178389\n",
      "75%     15.229113  6467.843715   81.144855\n",
      "max     17.990246  7039.627857  106.382208\n"
     ]
    }
   ],
   "source": [
    "print(df.describe())"
   ]
  },
  {
   "attachments": {},
   "cell_type": "markdown",
   "metadata": {},
   "source": [
    "Para criar a etiqueta dos dados, adicionamos uma nova coluna chamada `aptidao`, e fazemos a anotação manual de cada observação.\n",
    "\n",
    "> Para este exemplo os dados serão pseudo-anotados, mas em um contexto de negócios real de negócio, outras técnicas são empregadas para realizar a anotação, como a anotação por um especialista de domínio, uma rede neural, ou um algoritmo não-supervisionado.\n",
    "\n",
    "Como a magnitude das variáveis é muito diferente, normalizamos os dados"
   ]
  },
  {
   "cell_type": "code",
   "execution_count": 244,
   "metadata": {},
   "outputs": [
    {
     "data": {
      "text/html": [
       "<div>\n",
       "<style scoped>\n",
       "    .dataframe tbody tr th:only-of-type {\n",
       "        vertical-align: middle;\n",
       "    }\n",
       "\n",
       "    .dataframe tbody tr th {\n",
       "        vertical-align: top;\n",
       "    }\n",
       "\n",
       "    .dataframe thead th {\n",
       "        text-align: right;\n",
       "    }\n",
       "</style>\n",
       "<table border=\"1\" class=\"dataframe\">\n",
       "  <thead>\n",
       "    <tr style=\"text-align: right;\">\n",
       "      <th></th>\n",
       "      <th>velocidade</th>\n",
       "      <th>resistencia</th>\n",
       "      <th>potencia</th>\n",
       "    </tr>\n",
       "  </thead>\n",
       "  <tbody>\n",
       "    <tr>\n",
       "      <th>0</th>\n",
       "      <td>-0.340687</td>\n",
       "      <td>1.272394</td>\n",
       "      <td>0.213524</td>\n",
       "    </tr>\n",
       "    <tr>\n",
       "      <th>1</th>\n",
       "      <td>-0.665075</td>\n",
       "      <td>0.094876</td>\n",
       "      <td>-0.821853</td>\n",
       "    </tr>\n",
       "    <tr>\n",
       "      <th>2</th>\n",
       "      <td>0.667828</td>\n",
       "      <td>-1.052665</td>\n",
       "      <td>-0.621902</td>\n",
       "    </tr>\n",
       "    <tr>\n",
       "      <th>3</th>\n",
       "      <td>1.189747</td>\n",
       "      <td>0.522814</td>\n",
       "      <td>0.044656</td>\n",
       "    </tr>\n",
       "    <tr>\n",
       "      <th>4</th>\n",
       "      <td>-0.473284</td>\n",
       "      <td>-0.053432</td>\n",
       "      <td>1.298035</td>\n",
       "    </tr>\n",
       "  </tbody>\n",
       "</table>\n",
       "</div>"
      ],
      "text/plain": [
       "   velocidade  resistencia  potencia\n",
       "0   -0.340687     1.272394  0.213524\n",
       "1   -0.665075     0.094876 -0.821853\n",
       "2    0.667828    -1.052665 -0.621902\n",
       "3    1.189747     0.522814  0.044656\n",
       "4   -0.473284    -0.053432  1.298035"
      ]
     },
     "execution_count": 244,
     "metadata": {},
     "output_type": "execute_result"
    }
   ],
   "source": [
    "# normalizando os dados\n",
    "normal_df = (df-df.mean())/df.std()\n",
    "\n",
    "# mapeando os resultados com uma categoria de esporte\n",
    "dict_map = {\n",
    "    \"velocidade\": \"atletismo\",\n",
    "    \"resistencia\": \"futebol\",\n",
    "    \"potencia\": \"fisiculturismo\"\n",
    "}\n",
    "\n",
    "# criando a etiqueta\n",
    "df['aptidao'] = normal_df.idxmax(axis=1).map(dict_map)\n",
    "normal_df.head()"
   ]
  },
  {
   "attachments": {},
   "cell_type": "markdown",
   "metadata": {},
   "source": [
    "## Aplicando ML para prever os resultados - Árvore de Decisão\n",
    "\n",
    "Agora que já tratamos os nossos dados fictícios, podemos aplicar um algoritmo de ML real para comparar com os resultados obtidos através de chutes e através da simples média. Aqui vamos usar a árvore de decisão implementada na biblioteca `sklearn`.\n",
    "\n",
    "As árvores de decisão são modelos da família CART (Classification And Regression Trees), e, como o nome diz, podem ser usadas tanto para tarefas de regressão quanto para tarefas de classificação.\n",
    "\n",
    "> Pergunta rápida: Estamos diante de uma tarefa de classificação ou de regressão?"
   ]
  },
  {
   "cell_type": "code",
   "execution_count": 245,
   "metadata": {},
   "outputs": [
    {
     "data": {
      "text/html": [
       "<div>\n",
       "<style scoped>\n",
       "    .dataframe tbody tr th:only-of-type {\n",
       "        vertical-align: middle;\n",
       "    }\n",
       "\n",
       "    .dataframe tbody tr th {\n",
       "        vertical-align: top;\n",
       "    }\n",
       "\n",
       "    .dataframe thead th {\n",
       "        text-align: right;\n",
       "    }\n",
       "</style>\n",
       "<table border=\"1\" class=\"dataframe\">\n",
       "  <thead>\n",
       "    <tr style=\"text-align: right;\">\n",
       "      <th></th>\n",
       "      <th>velocidade</th>\n",
       "      <th>resistencia</th>\n",
       "      <th>potencia</th>\n",
       "      <th>resultado_original</th>\n",
       "      <th>predicao_dt</th>\n",
       "    </tr>\n",
       "  </thead>\n",
       "  <tbody>\n",
       "    <tr>\n",
       "      <th>0</th>\n",
       "      <td>13.612301</td>\n",
       "      <td>6763.845870</td>\n",
       "      <td>74.433526</td>\n",
       "      <td>futebol</td>\n",
       "      <td>futebol</td>\n",
       "    </tr>\n",
       "    <tr>\n",
       "      <th>73</th>\n",
       "      <td>12.127493</td>\n",
       "      <td>6080.709507</td>\n",
       "      <td>53.725464</td>\n",
       "      <td>futebol</td>\n",
       "      <td>futebol</td>\n",
       "    </tr>\n",
       "    <tr>\n",
       "      <th>28</th>\n",
       "      <td>14.038901</td>\n",
       "      <td>5297.753975</td>\n",
       "      <td>85.739706</td>\n",
       "      <td>fisiculturismo</td>\n",
       "      <td>fisiculturismo</td>\n",
       "    </tr>\n",
       "    <tr>\n",
       "      <th>68</th>\n",
       "      <td>14.953599</td>\n",
       "      <td>6809.321493</td>\n",
       "      <td>46.681129</td>\n",
       "      <td>futebol</td>\n",
       "      <td>futebol</td>\n",
       "    </tr>\n",
       "    <tr>\n",
       "      <th>27</th>\n",
       "      <td>16.907952</td>\n",
       "      <td>5766.292575</td>\n",
       "      <td>80.220013</td>\n",
       "      <td>atletismo</td>\n",
       "      <td>atletismo</td>\n",
       "    </tr>\n",
       "  </tbody>\n",
       "</table>\n",
       "</div>"
      ],
      "text/plain": [
       "    velocidade  resistencia   potencia resultado_original     predicao_dt\n",
       "0    13.612301  6763.845870  74.433526            futebol         futebol\n",
       "73   12.127493  6080.709507  53.725464            futebol         futebol\n",
       "28   14.038901  5297.753975  85.739706     fisiculturismo  fisiculturismo\n",
       "68   14.953599  6809.321493  46.681129            futebol         futebol\n",
       "27   16.907952  5766.292575  80.220013          atletismo       atletismo"
      ]
     },
     "execution_count": 245,
     "metadata": {},
     "output_type": "execute_result"
    }
   ],
   "source": [
    "from sklearn.model_selection import train_test_split\n",
    "\n",
    "# Fazendo o split entre base de treino e base de teste\n",
    "y_train, y_test = train_test_split(df, test_size=.25)\n",
    "resultado_original = y_test['aptidao']\n",
    "y_test.drop(\"aptidao\", axis=1, inplace=True)\n",
    "\n",
    "# Criando o objeto classificador\n",
    "clf = tree.DecisionTreeClassifier()\n",
    "\n",
    "# Ajustando o modelo aos dados\n",
    "clf = clf.fit(y_train[['velocidade', 'resistencia', 'potencia']], y_train['aptidao'])\n",
    "\n",
    "# Fazendo a previsão\n",
    "y_pred = clf.predict(y_test)\n",
    "y_test['resultado_original'] = resultado_original\n",
    "y_test['predicao_dt'] = y_pred\n",
    "y_test.head()"
   ]
  },
  {
   "cell_type": "code",
   "execution_count": 246,
   "metadata": {},
   "outputs": [
    {
     "data": {
      "image/png": "[encoded data removed]",
      "text/plain": [
       "<Figure size 1920x1440 with 1 Axes>"
      ]
     },
     "metadata": {},
     "output_type": "display_data"
    }
   ],
   "source": [
    "# visualização da árvore\n",
    "plt.figure(dpi=300)\n",
    "tree.plot_tree(clf, class_names=y_test.resultado_original.unique(), feature_names=y_test.columns[:-2], filled=True)\n",
    "plt.title(\"Árvore de decisão para classificação de esportes\")\n",
    "plt.show()"
   ]
  },
  {
   "attachments": {},
   "cell_type": "markdown",
   "metadata": {},
   "source": [
    "Podemos comparar o nosso modelo com o Zero Rule Algorithm (ZeroR - escolhe a categoria mais frequente), e um modelo de escolha aleatória. No código abaixo criamos essas \"predições\"."
   ]
  },
  {
   "cell_type": "code",
   "execution_count": 247,
   "metadata": {},
   "outputs": [
    {
     "data": {
      "text/html": [
       "<div>\n",
       "<style scoped>\n",
       "    .dataframe tbody tr th:only-of-type {\n",
       "        vertical-align: middle;\n",
       "    }\n",
       "\n",
       "    .dataframe tbody tr th {\n",
       "        vertical-align: top;\n",
       "    }\n",
       "\n",
       "    .dataframe thead th {\n",
       "        text-align: right;\n",
       "    }\n",
       "</style>\n",
       "<table border=\"1\" class=\"dataframe\">\n",
       "  <thead>\n",
       "    <tr style=\"text-align: right;\">\n",
       "      <th></th>\n",
       "      <th>velocidade</th>\n",
       "      <th>resistencia</th>\n",
       "      <th>potencia</th>\n",
       "      <th>resultado_original</th>\n",
       "      <th>predicao_dt</th>\n",
       "      <th>ZeroR</th>\n",
       "      <th>chute</th>\n",
       "    </tr>\n",
       "  </thead>\n",
       "  <tbody>\n",
       "    <tr>\n",
       "      <th>0</th>\n",
       "      <td>13.612301</td>\n",
       "      <td>6763.845870</td>\n",
       "      <td>74.433526</td>\n",
       "      <td>futebol</td>\n",
       "      <td>futebol</td>\n",
       "      <td>futebol</td>\n",
       "      <td>fisiculturismo</td>\n",
       "    </tr>\n",
       "    <tr>\n",
       "      <th>73</th>\n",
       "      <td>12.127493</td>\n",
       "      <td>6080.709507</td>\n",
       "      <td>53.725464</td>\n",
       "      <td>futebol</td>\n",
       "      <td>futebol</td>\n",
       "      <td>futebol</td>\n",
       "      <td>atletismo</td>\n",
       "    </tr>\n",
       "    <tr>\n",
       "      <th>28</th>\n",
       "      <td>14.038901</td>\n",
       "      <td>5297.753975</td>\n",
       "      <td>85.739706</td>\n",
       "      <td>fisiculturismo</td>\n",
       "      <td>fisiculturismo</td>\n",
       "      <td>futebol</td>\n",
       "      <td>fisiculturismo</td>\n",
       "    </tr>\n",
       "    <tr>\n",
       "      <th>68</th>\n",
       "      <td>14.953599</td>\n",
       "      <td>6809.321493</td>\n",
       "      <td>46.681129</td>\n",
       "      <td>futebol</td>\n",
       "      <td>futebol</td>\n",
       "      <td>futebol</td>\n",
       "      <td>fisiculturismo</td>\n",
       "    </tr>\n",
       "    <tr>\n",
       "      <th>27</th>\n",
       "      <td>16.907952</td>\n",
       "      <td>5766.292575</td>\n",
       "      <td>80.220013</td>\n",
       "      <td>atletismo</td>\n",
       "      <td>atletismo</td>\n",
       "      <td>futebol</td>\n",
       "      <td>fisiculturismo</td>\n",
       "    </tr>\n",
       "  </tbody>\n",
       "</table>\n",
       "</div>"
      ],
      "text/plain": [
       "    velocidade  resistencia   potencia resultado_original     predicao_dt  \\\n",
       "0    13.612301  6763.845870  74.433526            futebol         futebol   \n",
       "73   12.127493  6080.709507  53.725464            futebol         futebol   \n",
       "28   14.038901  5297.753975  85.739706     fisiculturismo  fisiculturismo   \n",
       "68   14.953599  6809.321493  46.681129            futebol         futebol   \n",
       "27   16.907952  5766.292575  80.220013          atletismo       atletismo   \n",
       "\n",
       "      ZeroR           chute  \n",
       "0   futebol  fisiculturismo  \n",
       "73  futebol       atletismo  \n",
       "28  futebol  fisiculturismo  \n",
       "68  futebol  fisiculturismo  \n",
       "27  futebol  fisiculturismo  "
      ]
     },
     "execution_count": 247,
     "metadata": {},
     "output_type": "execute_result"
    }
   ],
   "source": [
    "y_test['ZeroR'] = y_train.aptidao.value_counts().idxmax()\n",
    "y_test['chute'] = np.random.choice([\"futebol\", \"fisiculturismo\", \"atletismo\"], len(y_test))\n",
    "y_test.head()"
   ]
  },
  {
   "cell_type": "code",
   "execution_count": 248,
   "metadata": {},
   "outputs": [
    {
     "name": "stdout",
     "output_type": "stream",
     "text": [
      "Precisão (Decision Tree): 0.92\n",
      "Precisão (ZeroR): 0.48\n",
      "Precisão (Chute): 0.16\n"
     ]
    }
   ],
   "source": [
    "from sklearn import metrics\n",
    "\n",
    "# Mostrando a precisão do modelo\n",
    "print(\"Precisão (Decision Tree):\", metrics.accuracy_score(y_test.resultado_original, y_test.predicao_dt))\n",
    "print(\"Precisão (ZeroR):\", metrics.accuracy_score(y_test.resultado_original, y_test.ZeroR))\n",
    "print(\"Precisão (Chute):\", metrics.accuracy_score(y_test.resultado_original, y_test.chute))"
   ]
  },
  {
   "attachments": {},
   "cell_type": "markdown",
   "metadata": {},
   "source": [
    "## Implementando o algoritmo manualmente\n",
    "A estrutura de dados que melhor representa o algorimo é uma árvore binária. Na raiz da árvore temos todas as observações, e a cada nódulo, chamados de nódulos de decisão, os dados são divididos, com o objetivo de encontrar uma árvore onde cada folha contenha uma subdivisão _pura_ dos dados, quer dizer, numa tarefa de classificação, uma folha conterá um grupo onde todas as observações vão pertencer a mesma categoria.\n",
    "\n",
    "### Definindo os valores de corte - Índice GINI\n",
    "O objetivo principal do algoritmo é aprender com um conjunto de treinamento quais são as _regras de decisão_ que geram a árvore desejada. O método mais utilizado para calcular o valor de corte é o Índice GINI, que é derivado do conceito de entropia.\n",
    "\n",
    "A entropia, em teoria da informação, é uma medida de impureza de uma amostra, cujos valores calculados variam entre 0 e 1. Em um grupo dividido em duas classes, caso metade das observações pertença a uma classe, e a outra metade pertença a outra classe, a entropia vai medir o maior valor, 1, uma vez que o grupo é o mais heterogêneo possível. Caso todas as amostrar pertençam a uma mesma classe, a entropia vai ser 0, uma vez que o grupo é totalmente homogêneo, ou puro.\n",
    "\n",
    "A entropia é calculada através da seguinte fórmula:\n",
    "$$Entropia(S)=-\\sum_{c \\in C}p(c)log_2p(c)$$\n",
    "Onde:\n",
    "* $S$ é o conjunto de dados\n",
    "* $c$ é uma classe pertencente ao conjunto de dados\n",
    "* $p(c)$ é a proporção de observações no conjunto de dados $S$ que pertence à classe $c$.\n",
    "\n",
    "Para as árvores de decisão, cada regra de decisão vai ser aplicada com base na variável que apresente o menor valor de entropia. Para chegar a essa conclusão, calculamos o _ganho de informação_ gerado pela divisão (split), que é a diferença na entropia antes e depois da divisão. Esse procedimento pode ser descrito pela seguinte fórmula:\n",
    "$$\\text{Ganho de Informação}(S,a) = Entropia(S) - \\sum_{v \\in valores(a)}\\frac{|S_v|}{|S|}Entropia(S_v)$$\n",
    "Onde:\n",
    "* $a$ é um atributo ou classe\n",
    "* $Entropia(S)$ é a entropia do conjunto de dados total\n",
    "* $\\frac{|S_v|}{|S|}$ é a proporção dos valores de $S_v$ em relação a $S$\n",
    "* $Entropia(S_v)$ é a entropia do conjunto de dados $S_v$\n",
    "\n",
    "O índice Gini..."
   ]
  },
  {
   "cell_type": "markdown",
   "metadata": {},
   "source": [
    "Como trabalhamos com variáveis preditoras contínuas, é preciso discretizar os valores para estabelecer um ponto de corte. A biblioteca sklearn utiliza um método estocástico (randômico) para fazer os cortes, mas nós vamos nos valer de uma técnica habitual que consiste em escolher os pontos intermediários entre cada ponto na base de dados $S$. Para cada ponto, vamos calcular o indice GINI, e faremos a divisão da base de dados na variável cujo resultado apresentar o melhor valor.\n"
   ]
  },
  {
   "cell_type": "code",
   "execution_count": 249,
   "metadata": {},
   "outputs": [
    {
     "data": {
      "text/plain": [
       "92    14.099701\n",
       "52    13.944462\n",
       "33    13.244392\n",
       "95    13.240415\n",
       "63    14.020821\n",
       "Name: velocidade, dtype: float64"
      ]
     },
     "execution_count": 249,
     "metadata": {},
     "output_type": "execute_result"
    }
   ],
   "source": [
    "# Criando um vetor com os pontos de corte para a variavel velocidade\n",
    "discretizacao_velocidade = y_train[\"velocidade\"].rolling(window=2).mean()\n",
    "discretizacao_velocidade.fillna(discretizacao_velocidade.mean(), inplace=True)\n",
    "discretizacao_velocidade.head()"
   ]
  },
  {
   "cell_type": "code",
   "execution_count": 250,
   "metadata": {},
   "outputs": [
    {
     "data": {
      "text/plain": [
       "92    6143.665535\n",
       "52    5715.725836\n",
       "33    5748.683591\n",
       "95    5887.323633\n",
       "63    6027.708343\n",
       "Name: resistencia, dtype: float64"
      ]
     },
     "execution_count": 250,
     "metadata": {},
     "output_type": "execute_result"
    }
   ],
   "source": [
    "# Criando um vetor com os pontos de corte para a variavel resistencia\n",
    "discretizacao_resistencia = y_train[\"resistencia\"].rolling(window=2).mean()\n",
    "discretizacao_resistencia.fillna(discretizacao_resistencia.mean(), inplace=True)\n",
    "discretizacao_resistencia.head()"
   ]
  },
  {
   "cell_type": "code",
   "execution_count": 251,
   "metadata": {},
   "outputs": [
    {
     "data": {
      "text/plain": [
       "92    70.639932\n",
       "52    75.711099\n",
       "33    69.030483\n",
       "95    55.544770\n",
       "63    72.173749\n",
       "Name: potencia, dtype: float64"
      ]
     },
     "execution_count": 251,
     "metadata": {},
     "output_type": "execute_result"
    }
   ],
   "source": [
    "# Criando um vetor com os pontos de corte para a variavel potencia\n",
    "discretizacao_potencia = y_train[\"potencia\"].rolling(window=2).mean()\n",
    "discretizacao_potencia.fillna(discretizacao_potencia.mean(), inplace=True)\n",
    "discretizacao_potencia.head()"
   ]
  },
  {
   "cell_type": "code",
   "execution_count": 252,
   "metadata": {},
   "outputs": [
    {
     "data": {
      "text/html": [
       "<div>\n",
       "<style scoped>\n",
       "    .dataframe tbody tr th:only-of-type {\n",
       "        vertical-align: middle;\n",
       "    }\n",
       "\n",
       "    .dataframe tbody tr th {\n",
       "        vertical-align: top;\n",
       "    }\n",
       "\n",
       "    .dataframe thead th {\n",
       "        text-align: right;\n",
       "    }\n",
       "</style>\n",
       "<table border=\"1\" class=\"dataframe\">\n",
       "  <thead>\n",
       "    <tr style=\"text-align: right;\">\n",
       "      <th></th>\n",
       "      <th>velocidade</th>\n",
       "      <th>gini_velocidade</th>\n",
       "      <th>resistencia</th>\n",
       "      <th>gini_resistencia</th>\n",
       "      <th>potencia</th>\n",
       "      <th>gini_potencia</th>\n",
       "    </tr>\n",
       "  </thead>\n",
       "  <tbody>\n",
       "    <tr>\n",
       "      <th>86</th>\n",
       "      <td>12.249252</td>\n",
       "      <td>0.124444</td>\n",
       "      <td>6007.065243</td>\n",
       "      <td>0.452978</td>\n",
       "      <td>62.759302</td>\n",
       "      <td>0.414578</td>\n",
       "    </tr>\n",
       "    <tr>\n",
       "      <th>12</th>\n",
       "      <td>12.481566</td>\n",
       "      <td>0.169244</td>\n",
       "      <td>5940.103693</td>\n",
       "      <td>0.403200</td>\n",
       "      <td>53.931146</td>\n",
       "      <td>0.231111</td>\n",
       "    </tr>\n",
       "    <tr>\n",
       "      <th>65</th>\n",
       "      <td>12.453466</td>\n",
       "      <td>0.169244</td>\n",
       "      <td>5778.700696</td>\n",
       "      <td>0.320000</td>\n",
       "      <td>62.839613</td>\n",
       "      <td>0.414578</td>\n",
       "    </tr>\n",
       "    <tr>\n",
       "      <th>70</th>\n",
       "      <td>16.061808</td>\n",
       "      <td>0.169244</td>\n",
       "      <td>6115.499898</td>\n",
       "      <td>0.495644</td>\n",
       "      <td>83.443468</td>\n",
       "      <td>0.303644</td>\n",
       "    </tr>\n",
       "    <tr>\n",
       "      <th>8</th>\n",
       "      <td>16.005583</td>\n",
       "      <td>0.190578</td>\n",
       "      <td>5953.854411</td>\n",
       "      <td>0.425244</td>\n",
       "      <td>74.469733</td>\n",
       "      <td>0.460800</td>\n",
       "    </tr>\n",
       "  </tbody>\n",
       "</table>\n",
       "</div>"
      ],
      "text/plain": [
       "    velocidade  gini_velocidade  resistencia  gini_resistencia   potencia  \\\n",
       "86   12.249252         0.124444  6007.065243          0.452978  62.759302   \n",
       "12   12.481566         0.169244  5940.103693          0.403200  53.931146   \n",
       "65   12.453466         0.169244  5778.700696          0.320000  62.839613   \n",
       "70   16.061808         0.169244  6115.499898          0.495644  83.443468   \n",
       "8    16.005583         0.190578  5953.854411          0.425244  74.469733   \n",
       "\n",
       "    gini_potencia  \n",
       "86       0.414578  \n",
       "12       0.231111  \n",
       "65       0.414578  \n",
       "70       0.303644  \n",
       "8        0.460800  "
      ]
     },
     "execution_count": 252,
     "metadata": {},
     "output_type": "execute_result"
    }
   ],
   "source": [
    "def calcula_gini(y_train, variavel, ponto_corte):\n",
    "    # Criando uma cópia do dataframe\n",
    "    df = y_train.copy()\n",
    "    # Criando uma coluna com 0 e 1, sendo 0 para valores menores que o ponto de corte e 1 para valores maiores\n",
    "    df[\"classe\"] = np.where(df[variavel] < ponto_corte, 0, 1)\n",
    "    # Calculando a probabilidade de cada classe\n",
    "    prob_0 = df.classe.value_counts()[0]/len(df)\n",
    "    prob_1 = df.classe.value_counts()[1]/len(df)\n",
    "    # Calculando o gini\n",
    "    gini = 1 - (prob_0**2 + prob_1**2)\n",
    "    return gini\n",
    "\n",
    "# Calculando o gini para cada ponto de corte da variável velocidade\n",
    "gini_velocidade = []\n",
    "for i in discretizacao_velocidade:\n",
    "    gini_velocidade.append(calcula_gini(y_train, \"velocidade\", i))\n",
    "\n",
    "# Calculando o gini para cada ponto de corte da variável resistencia\n",
    "gini_resistencia = []\n",
    "for i in discretizacao_resistencia:\n",
    "    gini_resistencia.append(calcula_gini(y_train, \"resistencia\", i))\n",
    "\n",
    "# Calculando o gini para cada ponto de corte da variável potencia\n",
    "gini_potencia = []\n",
    "for i in discretizacao_potencia:\n",
    "    gini_potencia.append(calcula_gini(y_train, \"potencia\", i))\n",
    "\n",
    "# Criando um dataframe com os resultados\n",
    "df_gini = pd.DataFrame({\"velocidade\": discretizacao_velocidade, \"gini_velocidade\": gini_velocidade,\n",
    "                        \"resistencia\": discretizacao_resistencia, \"gini_resistencia\": gini_resistencia,\n",
    "                        \"potencia\": discretizacao_potencia, \"gini_potencia\": gini_potencia})\n",
    "\n",
    "df_gini.sort_values(by=\"gini_velocidade\").head()"
   ]
  },
  {
   "cell_type": "code",
   "execution_count": 253,
   "metadata": {},
   "outputs": [
    {
     "name": "stdout",
     "output_type": "stream",
     "text": [
      "O menor gini para velocidade é: 0.12444444444444436\n",
      "O menor gini para resistencia é: 0.07679999999999998\n",
      "O menor gini para potencia é: 0.07679999999999998\n"
     ]
    },
    {
     "data": {
      "text/html": [
       "<div>\n",
       "<style scoped>\n",
       "    .dataframe tbody tr th:only-of-type {\n",
       "        vertical-align: middle;\n",
       "    }\n",
       "\n",
       "    .dataframe tbody tr th {\n",
       "        vertical-align: top;\n",
       "    }\n",
       "\n",
       "    .dataframe thead th {\n",
       "        text-align: right;\n",
       "    }\n",
       "</style>\n",
       "<table border=\"1\" class=\"dataframe\">\n",
       "  <thead>\n",
       "    <tr style=\"text-align: right;\">\n",
       "      <th></th>\n",
       "      <th>velocidade</th>\n",
       "      <th>gini_velocidade</th>\n",
       "      <th>resistencia</th>\n",
       "      <th>gini_resistencia</th>\n",
       "      <th>potencia</th>\n",
       "      <th>gini_potencia</th>\n",
       "    </tr>\n",
       "  </thead>\n",
       "  <tbody>\n",
       "    <tr>\n",
       "      <th>47</th>\n",
       "      <td>14.549385</td>\n",
       "      <td>0.425244</td>\n",
       "      <td>6924.203710</td>\n",
       "      <td>0.0768</td>\n",
       "      <td>61.192981</td>\n",
       "      <td>0.391111</td>\n",
       "    </tr>\n",
       "    <tr>\n",
       "      <th>13</th>\n",
       "      <td>14.974843</td>\n",
       "      <td>0.391111</td>\n",
       "      <td>6455.617315</td>\n",
       "      <td>0.3648</td>\n",
       "      <td>46.312619</td>\n",
       "      <td>0.076800</td>\n",
       "    </tr>\n",
       "  </tbody>\n",
       "</table>\n",
       "</div>"
      ],
      "text/plain": [
       "    velocidade  gini_velocidade  resistencia  gini_resistencia   potencia  \\\n",
       "47   14.549385         0.425244  6924.203710            0.0768  61.192981   \n",
       "13   14.974843         0.391111  6455.617315            0.3648  46.312619   \n",
       "\n",
       "    gini_potencia  \n",
       "47       0.391111  \n",
       "13       0.076800  "
      ]
     },
     "execution_count": 253,
     "metadata": {},
     "output_type": "execute_result"
    }
   ],
   "source": [
    "# Calculando o menor gini para cada variável\n",
    "min_gini_velocidade, min_gini_resistencia, min_gini_potencia = df_gini.gini_velocidade.min(), df_gini.gini_resistencia.min(), df_gini.gini_potencia.min()\n",
    "# O melhor corte é o que tem o menor gini\n",
    "min_gini = min(min_gini_velocidade, min_gini_resistencia, min_gini_potencia)\n",
    "\n",
    "print(\"O menor gini para velocidade é:\", min_gini_velocidade)\n",
    "print(\"O menor gini para resistencia é:\", min_gini_resistencia)\n",
    "print(\"O menor gini para potencia é:\", min_gini_potencia)\n",
    "\n",
    "# Mostrando as observações que possuem o menor gini\n",
    "match = df_gini[df_gini.isin([min_gini]).any(axis=1).dropna()]\n",
    "var_corte = df_gini[df_gini.isin([min_gini])].idxmax(1).dropna().values[0].split(\"_\")[1]\n",
    "\n",
    "match"
   ]
  },
  {
   "cell_type": "code",
   "execution_count": 254,
   "metadata": {},
   "outputs": [
    {
     "data": {
      "text/plain": [
       "6924.203710459118"
      ]
     },
     "execution_count": 254,
     "metadata": {},
     "output_type": "execute_result"
    }
   ],
   "source": [
    "# Mostrando o valor de corte (threshold)\n",
    "var_corte = df_gini[df_gini.isin([min_gini])].idxmax(1).dropna().values[0].split(\"_\")[1]\n",
    "valor_corte = match[var_corte].values[0]\n",
    "valor_corte\n",
    "# valor_corte.split(\"_\")[1]\n",
    "# valor_corte"
   ]
  },
  {
   "cell_type": "code",
   "execution_count": 255,
   "metadata": {},
   "outputs": [
    {
     "data": {
      "text/html": [
       "<div>\n",
       "<style scoped>\n",
       "    .dataframe tbody tr th:only-of-type {\n",
       "        vertical-align: middle;\n",
       "    }\n",
       "\n",
       "    .dataframe tbody tr th {\n",
       "        vertical-align: top;\n",
       "    }\n",
       "\n",
       "    .dataframe thead th {\n",
       "        text-align: right;\n",
       "    }\n",
       "</style>\n",
       "<table border=\"1\" class=\"dataframe\">\n",
       "  <thead>\n",
       "    <tr style=\"text-align: right;\">\n",
       "      <th></th>\n",
       "      <th>velocidade</th>\n",
       "      <th>resistencia</th>\n",
       "      <th>potencia</th>\n",
       "      <th>aptidao</th>\n",
       "    </tr>\n",
       "  </thead>\n",
       "  <tbody>\n",
       "    <tr>\n",
       "      <th>92</th>\n",
       "      <td>14.116445</td>\n",
       "      <td>6079.274845</td>\n",
       "      <td>70.361543</td>\n",
       "      <td>atletismo</td>\n",
       "    </tr>\n",
       "    <tr>\n",
       "      <th>52</th>\n",
       "      <td>13.772479</td>\n",
       "      <td>5352.176828</td>\n",
       "      <td>81.060655</td>\n",
       "      <td>fisiculturismo</td>\n",
       "    </tr>\n",
       "    <tr>\n",
       "      <th>33</th>\n",
       "      <td>12.716304</td>\n",
       "      <td>6145.190355</td>\n",
       "      <td>57.000311</td>\n",
       "      <td>futebol</td>\n",
       "    </tr>\n",
       "    <tr>\n",
       "      <th>95</th>\n",
       "      <td>13.764525</td>\n",
       "      <td>5629.456910</td>\n",
       "      <td>54.089229</td>\n",
       "      <td>atletismo</td>\n",
       "    </tr>\n",
       "    <tr>\n",
       "      <th>63</th>\n",
       "      <td>14.277116</td>\n",
       "      <td>6425.959776</td>\n",
       "      <td>90.258270</td>\n",
       "      <td>fisiculturismo</td>\n",
       "    </tr>\n",
       "    <tr>\n",
       "      <th>...</th>\n",
       "      <td>...</td>\n",
       "      <td>...</td>\n",
       "      <td>...</td>\n",
       "      <td>...</td>\n",
       "    </tr>\n",
       "    <tr>\n",
       "      <th>75</th>\n",
       "      <td>14.183377</td>\n",
       "      <td>6340.294265</td>\n",
       "      <td>48.839001</td>\n",
       "      <td>futebol</td>\n",
       "    </tr>\n",
       "    <tr>\n",
       "      <th>97</th>\n",
       "      <td>14.129104</td>\n",
       "      <td>6863.329530</td>\n",
       "      <td>73.447714</td>\n",
       "      <td>futebol</td>\n",
       "    </tr>\n",
       "    <tr>\n",
       "      <th>60</th>\n",
       "      <td>12.763408</td>\n",
       "      <td>6391.560215</td>\n",
       "      <td>72.309365</td>\n",
       "      <td>futebol</td>\n",
       "    </tr>\n",
       "    <tr>\n",
       "      <th>43</th>\n",
       "      <td>14.378815</td>\n",
       "      <td>5618.348125</td>\n",
       "      <td>65.826316</td>\n",
       "      <td>atletismo</td>\n",
       "    </tr>\n",
       "    <tr>\n",
       "      <th>66</th>\n",
       "      <td>16.010535</td>\n",
       "      <td>5989.408776</td>\n",
       "      <td>104.865559</td>\n",
       "      <td>fisiculturismo</td>\n",
       "    </tr>\n",
       "  </tbody>\n",
       "</table>\n",
       "<p>72 rows × 4 columns</p>\n",
       "</div>"
      ],
      "text/plain": [
       "    velocidade  resistencia    potencia         aptidao\n",
       "92   14.116445  6079.274845   70.361543       atletismo\n",
       "52   13.772479  5352.176828   81.060655  fisiculturismo\n",
       "33   12.716304  6145.190355   57.000311         futebol\n",
       "95   13.764525  5629.456910   54.089229       atletismo\n",
       "63   14.277116  6425.959776   90.258270  fisiculturismo\n",
       "..         ...          ...         ...             ...\n",
       "75   14.183377  6340.294265   48.839001         futebol\n",
       "97   14.129104  6863.329530   73.447714         futebol\n",
       "60   12.763408  6391.560215   72.309365         futebol\n",
       "43   14.378815  5618.348125   65.826316       atletismo\n",
       "66   16.010535  5989.408776  104.865559  fisiculturismo\n",
       "\n",
       "[72 rows x 4 columns]"
      ]
     },
     "execution_count": 255,
     "metadata": {},
     "output_type": "execute_result"
    }
   ],
   "source": [
    "y_train.where(y_train[var_corte] <= valor_corte).dropna()"
   ]
  },
  {
   "cell_type": "code",
   "execution_count": 256,
   "metadata": {},
   "outputs": [
    {
     "data": {
      "text/html": [
       "<div>\n",
       "<style scoped>\n",
       "    .dataframe tbody tr th:only-of-type {\n",
       "        vertical-align: middle;\n",
       "    }\n",
       "\n",
       "    .dataframe tbody tr th {\n",
       "        vertical-align: top;\n",
       "    }\n",
       "\n",
       "    .dataframe thead th {\n",
       "        text-align: right;\n",
       "    }\n",
       "</style>\n",
       "<table border=\"1\" class=\"dataframe\">\n",
       "  <thead>\n",
       "    <tr style=\"text-align: right;\">\n",
       "      <th></th>\n",
       "      <th>velocidade</th>\n",
       "      <th>resistencia</th>\n",
       "      <th>potencia</th>\n",
       "      <th>aptidao</th>\n",
       "    </tr>\n",
       "  </thead>\n",
       "  <tbody>\n",
       "    <tr>\n",
       "      <th>42</th>\n",
       "      <td>17.918177</td>\n",
       "      <td>7034.322428</td>\n",
       "      <td>82.880502</td>\n",
       "      <td>atletismo</td>\n",
       "    </tr>\n",
       "    <tr>\n",
       "      <th>47</th>\n",
       "      <td>14.037987</td>\n",
       "      <td>7039.627857</td>\n",
       "      <td>55.586691</td>\n",
       "      <td>futebol</td>\n",
       "    </tr>\n",
       "    <tr>\n",
       "      <th>61</th>\n",
       "      <td>14.089255</td>\n",
       "      <td>7008.703162</td>\n",
       "      <td>79.363574</td>\n",
       "      <td>futebol</td>\n",
       "    </tr>\n",
       "  </tbody>\n",
       "</table>\n",
       "</div>"
      ],
      "text/plain": [
       "    velocidade  resistencia   potencia    aptidao\n",
       "42   17.918177  7034.322428  82.880502  atletismo\n",
       "47   14.037987  7039.627857  55.586691    futebol\n",
       "61   14.089255  7008.703162  79.363574    futebol"
      ]
     },
     "execution_count": 256,
     "metadata": {},
     "output_type": "execute_result"
    }
   ],
   "source": [
    "y_train.where(y_train[var_corte] > valor_corte).dropna()"
   ]
  },
  {
   "cell_type": "markdown",
   "metadata": {},
   "source": [
    "Separaremos a base de dados em dois grupos, o primeiro conterá observações onde `variavel <= limite` e o segundo, os demais."
   ]
  },
  {
   "cell_type": "code",
   "execution_count": 257,
   "metadata": {},
   "outputs": [
    {
     "name": "stdout",
     "output_type": "stream",
     "text": [
      "    velocidade  resistencia   potencia    aptidao\n",
      "42   17.918177  7034.322428  82.880502  atletismo\n",
      "47   14.037987  7039.627857  55.586691    futebol\n",
      "61   14.089255  7008.703162  79.363574    futebol\n",
      "\n",
      "---\n",
      "\n",
      "    velocidade  resistencia    potencia         aptidao\n",
      "92   14.116445  6079.274845   70.361543       atletismo\n",
      "52   13.772479  5352.176828   81.060655  fisiculturismo\n",
      "33   12.716304  6145.190355   57.000311         futebol\n",
      "95   13.764525  5629.456910   54.089229       atletismo\n",
      "63   14.277116  6425.959776   90.258270  fisiculturismo\n",
      "..         ...          ...         ...             ...\n",
      "75   14.183377  6340.294265   48.839001         futebol\n",
      "97   14.129104  6863.329530   73.447714         futebol\n",
      "60   12.763408  6391.560215   72.309365         futebol\n",
      "43   14.378815  5618.348125   65.826316       atletismo\n",
      "66   16.010535  5989.408776  104.865559  fisiculturismo\n",
      "\n",
      "[72 rows x 4 columns]\n"
     ]
    }
   ],
   "source": [
    "# Aplicando a regra de decisão\n",
    "split1_esquerda = y_train.where(y_train[var_corte] <= valor_corte).dropna()\n",
    "split1_direita = y_train.where(y_train[var_corte] > valor_corte).dropna()\n",
    "\n",
    "print(split1_direita)\n",
    "print(\"\\n---\\n\")\n",
    "print(split1_esquerda)"
   ]
  },
  {
   "cell_type": "code",
   "execution_count": 290,
   "metadata": {},
   "outputs": [
    {
     "data": {
      "text/plain": [
       "[]"
      ]
     },
     "execution_count": 290,
     "metadata": {},
     "output_type": "execute_result"
    }
   ],
   "source": [
    "# def calcula_gini(y_train, variavel, ponto_corte):\n",
    "#     # Criando uma cópia do dataframe\n",
    "#     df = y_train.copy()\n",
    "#     # Criando uma coluna com 0 e 1, sendo 0 para valores menores que o ponto de corte e 1 para valores maiores\n",
    "#     df[\"classe\"] = np.where(df[variavel] < ponto_corte, 0, 1)\n",
    "#     # Calculando a probabilidade de cada classe\n",
    "#     prob_0 = df.classe.value_counts()[0]/len(df)\n",
    "#     prob_1 = df.classe.value_counts()[1]/len(df)\n",
    "#     # Calculando o gini\n",
    "#     gini = 1 - (prob_0**2 + prob_1**2)\n",
    "#     return gini\n",
    "\n",
    "\n",
    "def discretizar_variavel(df, variavel):\n",
    "    discretizacao = df[variavel].rolling(window=2).mean()\n",
    "    discretizacao.fillna(discretizacao.mean(), inplace=True)\n",
    "    return discretizacao\n",
    "\n",
    "\n",
    "def calcula_pontos_corte(df, y):\n",
    "    df = df.copy()\n",
    "    thresholds = pd.DataFrame([discretizar_variavel(df, variavel) for variavel in df.drop(y, axis=1).columns]).T\n",
    "    gini_names = []\n",
    "    for t in thresholds.columns:\n",
    "        gini_var = f\"gini_{t}\"\n",
    "        gini_names.append(gini_var)\n",
    "        thresholds[gini_var] = thresholds[t].apply(lambda x: calcula_gini(df, t, x))\n",
    "    \n",
    "    idx_min = thresholds[[\"gini_velocidade\", \"gini_resistencia\", \"gini_potencia\"]].min(axis=1).idxmin()\n",
    "    min_var_name = thresholds[[\"gini_velocidade\", \"gini_resistencia\", \"gini_potencia\"]].min().idxmin()\n",
    "    print(min_var_name, idx_min)\n",
    "    return thresholds.loc[idx_min]\n",
    "    #[TODO]\n",
    "\n",
    "def calcula_split(df, variavel, ponto_corte):\n",
    "    pass\n",
    "\n",
    "\n",
    "\n",
    "def split(var_corte, valor_corte, df):\n",
    "    split1_esquerda = df.where(df[var_corte] <= valor_corte).dropna()\n",
    "    split1_direita = df.where(df[var_corte] > valor_corte).dropna()\n",
    "    return split1_esquerda, split1_direita\n",
    "\n",
    "splits = []\n",
    "\n",
    "\n",
    "\n",
    "splits"
   ]
  },
  {
   "cell_type": "code",
   "execution_count": 292,
   "metadata": {},
   "outputs": [
    {
     "name": "stdout",
     "output_type": "stream",
     "text": [
      "gini_resistencia 47\n"
     ]
    },
    {
     "data": {
      "text/plain": [
       "velocidade            14.549385\n",
       "resistencia         6924.203710\n",
       "potencia              61.192981\n",
       "gini_velocidade        0.425244\n",
       "gini_resistencia       0.076800\n",
       "gini_potencia          0.391111\n",
       "Name: 47, dtype: float64"
      ]
     },
     "execution_count": 292,
     "metadata": {},
     "output_type": "execute_result"
    }
   ],
   "source": [
    "teste = calcula_pontos_corte(y_train, \"aptidao\")\n",
    "teste"
   ]
  },
  {
   "cell_type": "code",
   "execution_count": 260,
   "metadata": {},
   "outputs": [
    {
     "data": {
      "text/html": [
       "<div>\n",
       "<style scoped>\n",
       "    .dataframe tbody tr th:only-of-type {\n",
       "        vertical-align: middle;\n",
       "    }\n",
       "\n",
       "    .dataframe tbody tr th {\n",
       "        vertical-align: top;\n",
       "    }\n",
       "\n",
       "    .dataframe thead th {\n",
       "        text-align: right;\n",
       "    }\n",
       "</style>\n",
       "<table border=\"1\" class=\"dataframe\">\n",
       "  <thead>\n",
       "    <tr style=\"text-align: right;\">\n",
       "      <th></th>\n",
       "      <th>velocidade</th>\n",
       "      <th>resistencia</th>\n",
       "      <th>potencia</th>\n",
       "      <th>gini_velocidade</th>\n",
       "      <th>gini_resistencia</th>\n",
       "      <th>gini_potencia</th>\n",
       "    </tr>\n",
       "  </thead>\n",
       "  <tbody>\n",
       "    <tr>\n",
       "      <th>1</th>\n",
       "      <td>15.254532</td>\n",
       "      <td>6130.583408</td>\n",
       "      <td>52.465345</td>\n",
       "      <td>0.350578</td>\n",
       "      <td>0.495644</td>\n",
       "      <td>0.211200</td>\n",
       "    </tr>\n",
       "    <tr>\n",
       "      <th>2</th>\n",
       "      <td>14.717484</td>\n",
       "      <td>5913.160647</td>\n",
       "      <td>59.995215</td>\n",
       "      <td>0.414578</td>\n",
       "      <td>0.391111</td>\n",
       "      <td>0.378311</td>\n",
       "    </tr>\n",
       "    <tr>\n",
       "      <th>4</th>\n",
       "      <td>12.968087</td>\n",
       "      <td>6395.772407</td>\n",
       "      <td>73.179233</td>\n",
       "      <td>0.350578</td>\n",
       "      <td>0.435200</td>\n",
       "      <td>0.467911</td>\n",
       "    </tr>\n",
       "    <tr>\n",
       "      <th>6</th>\n",
       "      <td>15.660245</td>\n",
       "      <td>5919.721443</td>\n",
       "      <td>54.449576</td>\n",
       "      <td>0.268800</td>\n",
       "      <td>0.391111</td>\n",
       "      <td>0.250311</td>\n",
       "    </tr>\n",
       "    <tr>\n",
       "      <th>8</th>\n",
       "      <td>16.005583</td>\n",
       "      <td>5953.854411</td>\n",
       "      <td>74.469733</td>\n",
       "      <td>0.190578</td>\n",
       "      <td>0.425244</td>\n",
       "      <td>0.460800</td>\n",
       "    </tr>\n",
       "    <tr>\n",
       "      <th>...</th>\n",
       "      <td>...</td>\n",
       "      <td>...</td>\n",
       "      <td>...</td>\n",
       "      <td>...</td>\n",
       "      <td>...</td>\n",
       "      <td>...</td>\n",
       "    </tr>\n",
       "    <tr>\n",
       "      <th>94</th>\n",
       "      <td>14.965801</td>\n",
       "      <td>6728.898271</td>\n",
       "      <td>65.173824</td>\n",
       "      <td>0.391111</td>\n",
       "      <td>0.190578</td>\n",
       "      <td>0.452978</td>\n",
       "    </tr>\n",
       "    <tr>\n",
       "      <th>95</th>\n",
       "      <td>13.240415</td>\n",
       "      <td>5887.323633</td>\n",
       "      <td>55.544770</td>\n",
       "      <td>0.444444</td>\n",
       "      <td>0.391111</td>\n",
       "      <td>0.286578</td>\n",
       "    </tr>\n",
       "    <tr>\n",
       "      <th>96</th>\n",
       "      <td>14.738953</td>\n",
       "      <td>5860.104793</td>\n",
       "      <td>55.404843</td>\n",
       "      <td>0.414578</td>\n",
       "      <td>0.350578</td>\n",
       "      <td>0.286578</td>\n",
       "    </tr>\n",
       "    <tr>\n",
       "      <th>97</th>\n",
       "      <td>14.156241</td>\n",
       "      <td>6601.811898</td>\n",
       "      <td>61.143358</td>\n",
       "      <td>0.480000</td>\n",
       "      <td>0.231111</td>\n",
       "      <td>0.391111</td>\n",
       "    </tr>\n",
       "    <tr>\n",
       "      <th>98</th>\n",
       "      <td>15.004747</td>\n",
       "      <td>5638.642171</td>\n",
       "      <td>72.914037</td>\n",
       "      <td>0.378311</td>\n",
       "      <td>0.286578</td>\n",
       "      <td>0.467911</td>\n",
       "    </tr>\n",
       "  </tbody>\n",
       "</table>\n",
       "<p>75 rows × 6 columns</p>\n",
       "</div>"
      ],
      "text/plain": [
       "    velocidade  resistencia   potencia  gini_velocidade  gini_resistencia  \\\n",
       "1    15.254532  6130.583408  52.465345         0.350578          0.495644   \n",
       "2    14.717484  5913.160647  59.995215         0.414578          0.391111   \n",
       "4    12.968087  6395.772407  73.179233         0.350578          0.435200   \n",
       "6    15.660245  5919.721443  54.449576         0.268800          0.391111   \n",
       "8    16.005583  5953.854411  74.469733         0.190578          0.425244   \n",
       "..         ...          ...        ...              ...               ...   \n",
       "94   14.965801  6728.898271  65.173824         0.391111          0.190578   \n",
       "95   13.240415  5887.323633  55.544770         0.444444          0.391111   \n",
       "96   14.738953  5860.104793  55.404843         0.414578          0.350578   \n",
       "97   14.156241  6601.811898  61.143358         0.480000          0.231111   \n",
       "98   15.004747  5638.642171  72.914037         0.378311          0.286578   \n",
       "\n",
       "    gini_potencia  \n",
       "1        0.211200  \n",
       "2        0.378311  \n",
       "4        0.467911  \n",
       "6        0.250311  \n",
       "8        0.460800  \n",
       "..            ...  \n",
       "94       0.452978  \n",
       "95       0.286578  \n",
       "96       0.286578  \n",
       "97       0.391111  \n",
       "98       0.467911  \n",
       "\n",
       "[75 rows x 6 columns]"
      ]
     },
     "execution_count": 260,
     "metadata": {},
     "output_type": "execute_result"
    }
   ],
   "source": [
    "teste.sort_index()"
   ]
  },
  {
   "cell_type": "code",
   "execution_count": 289,
   "metadata": {},
   "outputs": [
    {
     "data": {
      "text/plain": [
       "'gini_resistencia'"
      ]
     },
     "execution_count": 289,
     "metadata": {},
     "output_type": "execute_result"
    }
   ],
   "source": [
    "teste[[\"gini_velocidade\", \"gini_resistencia\", \"gini_potencia\"]].min(axis=1).idxmin()\n",
    "teste[[\"gini_velocidade\", \"gini_resistencia\", \"gini_potencia\"]].min().idxmin()"
   ]
  },
  {
   "cell_type": "code",
   "execution_count": 280,
   "metadata": {},
   "outputs": [
    {
     "data": {
      "text/html": [
       "<div>\n",
       "<style scoped>\n",
       "    .dataframe tbody tr th:only-of-type {\n",
       "        vertical-align: middle;\n",
       "    }\n",
       "\n",
       "    .dataframe tbody tr th {\n",
       "        vertical-align: top;\n",
       "    }\n",
       "\n",
       "    .dataframe thead th {\n",
       "        text-align: right;\n",
       "    }\n",
       "</style>\n",
       "<table border=\"1\" class=\"dataframe\">\n",
       "  <thead>\n",
       "    <tr style=\"text-align: right;\">\n",
       "      <th></th>\n",
       "      <th>velocidade</th>\n",
       "      <th>resistencia</th>\n",
       "      <th>potencia</th>\n",
       "      <th>gini_velocidade</th>\n",
       "      <th>gini_resistencia</th>\n",
       "      <th>gini_potencia</th>\n",
       "    </tr>\n",
       "  </thead>\n",
       "  <tbody>\n",
       "    <tr>\n",
       "      <th>47</th>\n",
       "      <td>14.549385</td>\n",
       "      <td>6924.203710</td>\n",
       "      <td>61.192981</td>\n",
       "      <td>0.425244</td>\n",
       "      <td>0.076800</td>\n",
       "      <td>0.391111</td>\n",
       "    </tr>\n",
       "    <tr>\n",
       "      <th>86</th>\n",
       "      <td>12.249252</td>\n",
       "      <td>6007.065243</td>\n",
       "      <td>62.759302</td>\n",
       "      <td>0.124444</td>\n",
       "      <td>0.452978</td>\n",
       "      <td>0.414578</td>\n",
       "    </tr>\n",
       "    <tr>\n",
       "      <th>13</th>\n",
       "      <td>14.974843</td>\n",
       "      <td>6455.617315</td>\n",
       "      <td>46.312619</td>\n",
       "      <td>0.391111</td>\n",
       "      <td>0.364800</td>\n",
       "      <td>0.076800</td>\n",
       "    </tr>\n",
       "  </tbody>\n",
       "</table>\n",
       "</div>"
      ],
      "text/plain": [
       "    velocidade  resistencia   potencia  gini_velocidade  gini_resistencia  \\\n",
       "47   14.549385  6924.203710  61.192981         0.425244          0.076800   \n",
       "86   12.249252  6007.065243  62.759302         0.124444          0.452978   \n",
       "13   14.974843  6455.617315  46.312619         0.391111          0.364800   \n",
       "\n",
       "    gini_potencia  \n",
       "47       0.391111  \n",
       "86       0.414578  \n",
       "13       0.076800  "
      ]
     },
     "execution_count": 280,
     "metadata": {},
     "output_type": "execute_result"
    }
   ],
   "source": [
    "# Encontrar o menor valor entre todas as colunas que comecam com gini\n",
    "\n",
    "teste.loc[[47, 86, 13]]"
   ]
  },
  {
   "cell_type": "code",
   "execution_count": null,
   "metadata": {},
   "outputs": [],
   "source": []
  }
 ],
 "metadata": {
  "kernelspec": {
   "display_name": "py310",
   "language": "python",
   "name": "python3"
  },
  "language_info": {
   "codemirror_mode": {
    "name": "ipython",
    "version": 3
   },
   "file_extension": ".py",
   "mimetype": "text/x-python",
   "name": "python",
   "nbconvert_exporter": "python",
   "pygments_lexer": "ipython3",
   "version": "3.10.11"
  },
  "orig_nbformat": 4
 },
 "nbformat": 4,
 "nbformat_minor": 2
}
