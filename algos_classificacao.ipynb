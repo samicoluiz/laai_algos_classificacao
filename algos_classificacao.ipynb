{
 "cells": [
  {
   "attachments": {},
   "cell_type": "markdown",
   "metadata": {},
   "source": [
    "# Técnicas de Classificação\n",
    "Os algoritmos de aprendizagem de máquina são comumente dívididos em duas famílias, algoritmos de aprendizagem supervisionada e de aprendizagem não-supervisionada. É preciso introduzir algumas diferenças entre eles antes de passar o estudo dos algoritmos de classificação propriamente ditos.\n",
    "\n",
    "Para isso, imagine que em uma academia de esportes os novos clientes passam por testes físicos para definir a sua afinidade esportiva. Primeiramente, os examinados são submetidos a uma corrida de 100m, e o tempo em segundos é inserido na base de dados como `var1`. Em seguinda, os examinados precisam correr uma longa distância e o tempo em segundos é inserido na base de dados como `var2`. Por fim, os candidatos precisam levantar pesos, e o peso máximo levantado em kgs é inserido na base de dados como `var3`. Perceba que esses dados por si só não têm capacidade de indicar a afinidade esportiva de um candidato.\n",
    "\n",
    "Por conta disso, para obter mais informação sobre os examinados, um profissional de educação física sugere renomear as colunas `var1`, `var2` e `var3` para `velocidade`, `resistência` e `força`, respectivamente. Além disso, foi criada uma variável nova, chamada `aptidao`, onde cada observação poderia receber uma das seguintes categorias `atletismo`, `futebol`, `fisiculturismo`, e o profissional atribuiu à cada cliente uma categoria com base nos seus resultados.\n",
    "\n",
    "Note que ao fazer isso foi introduzido significado para as variáveis, possibilitando a análise racional da variável `aptidao` em relação às demais. Essa variável `aptidao` é a etiqueta (ou label) dos dados para o problema posto. Note que a etiqueta de um conjunto de dados é dependente do problema a ser resolvido, e um mesmo conjunto pode ser considerado etiquetado ou não, dependendo do que se deseja analisar.\n",
    "\n",
    "Fundamentalmente os algorítmos de aprendizagem não supervisionada se preocupam com tarefas de _agrupamento_, _etiquetagem_, e de _redução de dimensionalidade_ aplicados em dados não etiquetados, habitualmente aplicados em uma fase preparatória anterior à aplicação de algoritmos de aprendizagem supervisionada.\n",
    "\n",
    "Os algoritmos de aprendizagem supervisionada, por sua vez, são empregados para resolver dois tipos de problema: regressão e __classificação__.\n",
    "\n",
    "Os algoritmos de regressão se encarregam de receber dados e fornecer uma variável contínua como saída (um número) e.g. dado que o cliente x correu 100m em 20 segundos, ele é estimado a correr a longa distância em x segundos. O algoritmo mais conhecido dessa família é a regressão linear.\n",
    "\n",
    "Por sua vez, os algoritmos de classificação se ocupam das variáveis categóricas discretas (um estado) e.g. dado os resultados das outras variáveis, o melhor esporte para o cliente é: `fisiculturismo`. Um algoritmo bastante conhecido dessa família é a árvore de decisão.\n",
    "\n",
    "Nesta apresentação serão abordados os seguintes algoritmos de classificação:\n",
    "* Regressão Logística\n",
    "* Árvore de Decisão (Decision Tree)\n",
    "* Floresta Aleatória (Random Forest)\n",
    "* Support Vector Machine (SVM)"
   ]
  }
 ],
 "metadata": {
  "language_info": {
   "name": "python"
  },
  "orig_nbformat": 4
 },
 "nbformat": 4,
 "nbformat_minor": 2
}
