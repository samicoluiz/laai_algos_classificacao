{
 "cells": [
  {
   "attachments": {},
   "cell_type": "markdown",
   "metadata": {},
   "source": [
    "# Preâmbulo\n",
    "Inteligência artificial, aprendizagem de máquina e estatística são campos fundamentalmente entrelaçados, assim sendo, antes de tratar de processos de classificão propriamente ditos devemos relembrar de alguns conceitos fundamentais de estatística para verdadeiramente compreender os algoritmos tratados adiante.\n",
    "\n",
    "## Medidas de Posição\n",
    "* Média\n",
    "* Mediana\n",
    "* Moda\n",
    "* Percentis\n",
    "\n",
    "O objetivo de um algoritmo de ML é fazer uma predição mais fundamentada do que um mero chute. Uma das formas mais rudimentares de fazer isso é através da média. Observe o código à seguir."
   ]
  },
  {
   "cell_type": "code",
   "execution_count": 28,
   "metadata": {},
   "outputs": [],
   "source": [
    "import pandas as pd\n",
    "import numpy as np\n",
    "import matplotlib.pyplot as plt\n",
    "from sklearn.metrics import mean_squared_error"
   ]
  },
  {
   "cell_type": "code",
   "execution_count": 29,
   "metadata": {},
   "outputs": [
    {
     "data": {
      "text/html": [
       "<div>\n",
       "<style scoped>\n",
       "    .dataframe tbody tr th:only-of-type {\n",
       "        vertical-align: middle;\n",
       "    }\n",
       "\n",
       "    .dataframe tbody tr th {\n",
       "        vertical-align: top;\n",
       "    }\n",
       "\n",
       "    .dataframe thead th {\n",
       "        text-align: right;\n",
       "    }\n",
       "</style>\n",
       "<table border=\"1\" class=\"dataframe\">\n",
       "  <thead>\n",
       "    <tr style=\"text-align: right;\">\n",
       "      <th></th>\n",
       "      <th>x1</th>\n",
       "      <th>x2</th>\n",
       "      <th>chute</th>\n",
       "      <th>media</th>\n",
       "    </tr>\n",
       "  </thead>\n",
       "  <tbody>\n",
       "    <tr>\n",
       "      <th>0</th>\n",
       "      <td>-1.622484</td>\n",
       "      <td>0.166696</td>\n",
       "      <td>0.502707</td>\n",
       "      <td>0</td>\n",
       "    </tr>\n",
       "    <tr>\n",
       "      <th>1</th>\n",
       "      <td>-1.401002</td>\n",
       "      <td>0.456777</td>\n",
       "      <td>-0.663886</td>\n",
       "      <td>0</td>\n",
       "    </tr>\n",
       "    <tr>\n",
       "      <th>2</th>\n",
       "      <td>0.391649</td>\n",
       "      <td>-1.451095</td>\n",
       "      <td>0.400457</td>\n",
       "      <td>0</td>\n",
       "    </tr>\n",
       "    <tr>\n",
       "      <th>3</th>\n",
       "      <td>-0.863991</td>\n",
       "      <td>2.322219</td>\n",
       "      <td>0.438370</td>\n",
       "      <td>0</td>\n",
       "    </tr>\n",
       "    <tr>\n",
       "      <th>4</th>\n",
       "      <td>-0.623664</td>\n",
       "      <td>-0.697810</td>\n",
       "      <td>0.380925</td>\n",
       "      <td>0</td>\n",
       "    </tr>\n",
       "    <tr>\n",
       "      <th>...</th>\n",
       "      <td>...</td>\n",
       "      <td>...</td>\n",
       "      <td>...</td>\n",
       "      <td>...</td>\n",
       "    </tr>\n",
       "    <tr>\n",
       "      <th>95</th>\n",
       "      <td>-0.408994</td>\n",
       "      <td>-0.330366</td>\n",
       "      <td>-0.730729</td>\n",
       "      <td>0</td>\n",
       "    </tr>\n",
       "    <tr>\n",
       "      <th>96</th>\n",
       "      <td>-0.620913</td>\n",
       "      <td>-0.053997</td>\n",
       "      <td>0.969244</td>\n",
       "      <td>0</td>\n",
       "    </tr>\n",
       "    <tr>\n",
       "      <th>97</th>\n",
       "      <td>-1.130187</td>\n",
       "      <td>2.359922</td>\n",
       "      <td>0.619325</td>\n",
       "      <td>0</td>\n",
       "    </tr>\n",
       "    <tr>\n",
       "      <th>98</th>\n",
       "      <td>-0.520218</td>\n",
       "      <td>-0.185657</td>\n",
       "      <td>0.514375</td>\n",
       "      <td>0</td>\n",
       "    </tr>\n",
       "    <tr>\n",
       "      <th>99</th>\n",
       "      <td>-0.489946</td>\n",
       "      <td>2.318314</td>\n",
       "      <td>0.366857</td>\n",
       "      <td>0</td>\n",
       "    </tr>\n",
       "  </tbody>\n",
       "</table>\n",
       "<p>100 rows × 4 columns</p>\n",
       "</div>"
      ],
      "text/plain": [
       "          x1        x2     chute  media\n",
       "0  -1.622484  0.166696  0.502707      0\n",
       "1  -1.401002  0.456777 -0.663886      0\n",
       "2   0.391649 -1.451095  0.400457      0\n",
       "3  -0.863991  2.322219  0.438370      0\n",
       "4  -0.623664 -0.697810  0.380925      0\n",
       "..       ...       ...       ...    ...\n",
       "95 -0.408994 -0.330366 -0.730729      0\n",
       "96 -0.620913 -0.053997  0.969244      0\n",
       "97 -1.130187  2.359922  0.619325      0\n",
       "98 -0.520218 -0.185657  0.514375      0\n",
       "99 -0.489946  2.318314  0.366857      0\n",
       "\n",
       "[100 rows x 4 columns]"
      ]
     },
     "execution_count": 29,
     "metadata": {},
     "output_type": "execute_result"
    }
   ],
   "source": [
    "# Criando uma base de dados com 100 linhas e 2 colunas, e valores variando entre 0 e 1\n",
    "df_pre = pd.DataFrame(np.random.normal(0, 1, size=(100, 2)), columns=['x1', 'x2'])\n",
    "# Tentando prever os valores de x1 através de chutes aleatórios e armazenndo os resultados em uma nova coluna 'chute'\n",
    "df_pre[\"chute\"] = np.random.default_rng().uniform(-1, 1, size=(100))\n",
    "# Tentando prever os valores de x1 utilizando a média e armazenando os resultados em uma nova coluna 'media'\n",
    "df_pre[\"media\"] = 0\n",
    "df_pre"
   ]
  },
  {
   "attachments": {},
   "cell_type": "markdown",
   "metadata": {},
   "source": [
    "Para avaliar a acurácia da nossa predição, calculamos o erro quadrado médio (mean squared error, MSE) entre os resultados reais e as nosssas predições. O cálculo é simples, para um ponto, verificamos a diferença entre a predição e o resultado real e elevamos ao quadrado. Este é o erro quadrado daquele ponto. O erro quadrado médio do modelo consiste na média da soma dos quadrados das diferenças entre os resultados reais e os resultados preditos, divididos pelo tamanho da amostra. Em matematiquês:\n",
    "$$MSE=\\frac{1}{N}\\sum_{i=1}^n(Y_i-\\hat{Y}_i)^2$$\n",
    "\n",
    "Usamos a função `mean_squared_error()` da biblioteca scikit_learn para calcular o MSE do nosso modelo."
   ]
  },
  {
   "cell_type": "code",
   "execution_count": 30,
   "metadata": {},
   "outputs": [
    {
     "name": "stdout",
     "output_type": "stream",
     "text": [
      "Erro quadrado médio do chute:  1.5393416768004426\n",
      "Erro quadrado médio da média:  1.1239000158963934\n"
     ]
    }
   ],
   "source": [
    "mse_chute = mean_squared_error(df_pre['x1'], df_pre['chute'])\n",
    "mse_media = mean_squared_error(df_pre['x1'], df_pre['media'])\n",
    "print(\"Erro quadrado médio do chute: \", mse_chute)\n",
    "print(\"Erro quadrado médio da média: \", mse_media)"
   ]
  },
  {
   "cell_type": "code",
   "execution_count": 35,
   "metadata": {},
   "outputs": [
    {
     "data": {
      "text/plain": [
       "[<matplotlib.lines.Line2D at 0x7f0d49bd1fa0>]"
      ]
     },
     "execution_count": 35,
     "metadata": {},
     "output_type": "execute_result"
    },
    {
     "data": {
      "image/png": "[encoded data removed]",
      "text/plain": [
       "<Figure size 640x480 with 1 Axes>"
      ]
     },
     "metadata": {},
     "output_type": "display_data"
    }
   ],
   "source": [
    "ax1 = df_pre.plot(kind='scatter', x='x1', y='x2')\n",
    "ax2 = df_pre.plot(kind='scatter', x='x1', y='media', c='red', ax=ax1)\n",
    "ax3 = df_pre.plot(kind='scatter', x='x1', y='chute', c='yellow', ax=ax1)\n",
    "# desenhe uma linha par a média do grafico acima\n",
    "plt.plot([-3, 3], [0, 0], color='red', linestyle='-')\n"
   ]
  },
  {
   "attachments": {},
   "cell_type": "markdown",
   "metadata": {},
   "source": [
    "# Técnicas de Classificação\n",
    "Os algoritmos de aprendizagem de máquina são comumente dívididos em duas famílias: algoritmos de aprendizagem _supervisionada_ e de aprendizagem _não-supervisionada_. Antes de passarmos ao estudo dos algoritmos de classificação propriamente ditos, é preciso compreender alguns conceitos relacionados a essas diferenças, e para isso vamos recorrer a um exemplo.\n",
    "\n",
    "Imagine que em uma academia de esportes os novos clientes passam por testes físicos para definir a sua afinidade esportiva. Primeiramente, os examinados são submetidos a uma corrida de 100m, e o tempo em segundos é inserido na base de dados como `var1`. Em seguinda, os examinados precisam correr uma longa distância e o tempo em segundos é inserido na base de dados como `var2`. Por fim, os candidatos precisam levantar pesos, e o peso máximo levantado em kgs é inserido na base de dados como `var3`. Perceba que esses dados por si só não têm capacidade de indicar a afinidade esportiva de um candidato.\n",
    "\n",
    "Almejando obter mais informação sobre os examinados, um profissional de educação física sugere renomear as colunas `var1`, `var2` e `var3` para `velocidade`, `resistência` e `força`, respectivamente. Além disso, foi criada uma variável nova, chamada `aptidao`, onde cada observação poderia receber uma das seguintes categorias `atletismo`, `futebol`, `fisiculturismo`, e o profissional atribuiu à cada cliente uma categoria com base nos seus resultados.\n",
    "\n",
    "Note que ao fazer isso foi introduzido significado para as variáveis, possibilitando a análise da variável `aptidao` em _relação às demais_. Essa variável `aptidao` é a etiqueta (ou label) dos dados para o problema posto. Note que a etiqueta de um conjunto de dados depende do problema a ser resolvido, e um mesmo conjunto pode ser considerado etiquetado, ou não, dependendo do que se deseja analisar.\n",
    "\n",
    "Fundamentalmente os algorítmos de aprendizagem não supervisionada se preocupam com tarefas de _agrupamento_, _etiquetagem_, e de _redução de dimensionalidade_ aplicados em dados não etiquetados, habitualmente empregados em uma fase preparatória, anterior à aplicação de algoritmos de aprendizagem supervisionada.\n",
    "\n",
    "Os algoritmos de aprendizagem supervisionada, por sua vez, são empregados para resolver dois tipos de problema: __regressão__ e __classificação__.\n",
    "\n",
    "Os algoritmos de regressão se encarregam de receber dados e fornecer uma variável contínua (um número real) como saída. Por exemplo, dado que o cliente x correu 100m em 20 segundos, ele é estimado a correr a longa distância em x segundos. O algoritmo mais conhecido dessa família é a regressão linear.\n",
    "\n",
    "Por sua vez, os algoritmos de classificação se ocupam das variáveis categóricas discretas, um estado dentre um número finito de possibilidades. Por exemplo, dado os resultados das outras variáveis, o melhor esporte para o cliente é: `fisiculturismo`. Um algoritmo bastante conhecido dessa família é a árvore de decisão.\n",
    "\n",
    "Nesta apresentação serão abordados os seguintes algoritmos de classificação:\n",
    "* Regressão Logística\n",
    "* Support Vector Machine (SVM)\n",
    "* Árvore de Decisão (Decision Tree)\n",
    "* Floresta Aleatória (Random Forest)\n"
   ]
  },
  {
   "attachments": {},
   "cell_type": "markdown",
   "metadata": {},
   "source": [
    "## Criando o exemplo em código\n",
    "Iniciamos com a importação das bibliotecas. Note que `pandas`, `numpy` e `matplotlib` são usados na grande maioria dos casos quando utilizamos a linguagem Python, portanto, aprender a utilizar essas bibliotecas é fundamental.\n",
    "> Uma tarefa importante no estudo de machine learning é a criação de exemplos, tanto dos dados, quanto dos algoritmos. Ser capaz de construir um conjunto ficcional de dados é importante para a demonstração de técnicas de implementação, e construir os algoritmos a partir do zero é importante para desenvolver a intuição por trás dos algoritmos."
   ]
  },
  {
   "cell_type": "code",
   "execution_count": 32,
   "metadata": {},
   "outputs": [],
   "source": [
    "# Importando as bibliotecas\n",
    "import numpy as np\n",
    "import pandas as pd\n",
    "from matplotlib import pyplot as plt\n",
    "from sklearn import tree # implementação de árvore de decisão do sklearn"
   ]
  },
  {
   "cell_type": "code",
   "execution_count": 33,
   "metadata": {},
   "outputs": [
    {
     "data": {
      "text/html": [
       "<div>\n",
       "<style scoped>\n",
       "    .dataframe tbody tr th:only-of-type {\n",
       "        vertical-align: middle;\n",
       "    }\n",
       "\n",
       "    .dataframe tbody tr th {\n",
       "        vertical-align: top;\n",
       "    }\n",
       "\n",
       "    .dataframe thead th {\n",
       "        text-align: right;\n",
       "    }\n",
       "</style>\n",
       "<table border=\"1\" class=\"dataframe\">\n",
       "  <thead>\n",
       "    <tr style=\"text-align: right;\">\n",
       "      <th></th>\n",
       "      <th>velocidade (s)</th>\n",
       "      <th>resistencia (s)</th>\n",
       "      <th>potencia (kg)</th>\n",
       "    </tr>\n",
       "  </thead>\n",
       "  <tbody>\n",
       "    <tr>\n",
       "      <th>0</th>\n",
       "      <td>13.043362</td>\n",
       "      <td>7013.561479</td>\n",
       "      <td>43.937395</td>\n",
       "    </tr>\n",
       "    <tr>\n",
       "      <th>1</th>\n",
       "      <td>12.207165</td>\n",
       "      <td>6657.678520</td>\n",
       "      <td>-15.702804</td>\n",
       "    </tr>\n",
       "    <tr>\n",
       "      <th>2</th>\n",
       "      <td>14.119171</td>\n",
       "      <td>3018.021043</td>\n",
       "      <td>-41.433426</td>\n",
       "    </tr>\n",
       "    <tr>\n",
       "      <th>3</th>\n",
       "      <td>17.185970</td>\n",
       "      <td>7365.662910</td>\n",
       "      <td>33.103679</td>\n",
       "    </tr>\n",
       "    <tr>\n",
       "      <th>4</th>\n",
       "      <td>19.758081</td>\n",
       "      <td>7641.176317</td>\n",
       "      <td>35.896462</td>\n",
       "    </tr>\n",
       "  </tbody>\n",
       "</table>\n",
       "</div>"
      ],
      "text/plain": [
       "   velocidade (s)  resistencia (s)  potencia (kg)\n",
       "0       13.043362      7013.561479      43.937395\n",
       "1       12.207165      6657.678520     -15.702804\n",
       "2       14.119171      3018.021043     -41.433426\n",
       "3       17.185970      7365.662910      33.103679\n",
       "4       19.758081      7641.176317      35.896462"
      ]
     },
     "execution_count": 33,
     "metadata": {},
     "output_type": "execute_result"
    }
   ],
   "source": [
    "# Usando a distribuição normal para gerar dados aleatórios\n",
    "velocidade = np.random.normal(14, 5, 100)\n",
    "resisencia = np.random.normal(6180, 2760, 100)\n",
    "potencia = np.random.normal(70, 50, 100)\n",
    "df= pd.DataFrame({'velocidade (s)': velocidade, 'resistencia (s)': resisencia, 'potencia (kg)': potencia})\n",
    "df.head()"
   ]
  },
  {
   "cell_type": "code",
   "execution_count": null,
   "metadata": {},
   "outputs": [],
   "source": []
  }
 ],
 "metadata": {
  "kernelspec": {
   "display_name": "py310",
   "language": "python",
   "name": "python3"
  },
  "language_info": {
   "codemirror_mode": {
    "name": "ipython",
    "version": 3
   },
   "file_extension": ".py",
   "mimetype": "text/x-python",
   "name": "python",
   "nbconvert_exporter": "python",
   "pygments_lexer": "ipython3",
   "version": "3.9.13"
  },
  "orig_nbformat": 4
 },
 "nbformat": 4,
 "nbformat_minor": 2
}
