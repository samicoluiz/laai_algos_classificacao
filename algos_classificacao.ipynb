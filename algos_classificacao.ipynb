{
 "cells": [
  {
   "attachments": {},
   "cell_type": "markdown",
   "metadata": {},
   "source": [
    "# Preâmbulo\n",
    "Inteligência artificial, aprendizagem de máquina e estatística são campos fundamentalmente entrelaçados, assim sendo, antes de tratar de processos de classificão propriamente ditos devemos relembrar de alguns conceitos fundamentais de estatística para verdadeiramente compreender os algoritmos tratados adiante.\n",
    "\n",
    "## Medidas de Posição\n",
    "* Média\n",
    "* Mediana\n",
    "* Moda\n",
    "* Percentis\n",
    "\n",
    "O objetivo de um algoritmo de ML é fazer uma predição mais fundamentada do que um mero chute. Uma das formas mais rudimentares de fazer isso é através da média. Observe o código à seguir."
   ]
  },
  {
   "cell_type": "code",
   "execution_count": 14,
   "metadata": {},
   "outputs": [],
   "source": [
    "import pandas as pd\n",
    "import numpy as np\n",
    "import matplotlib.pyplot as plt\n",
    "from sklearn.metrics import mean_squared_error"
   ]
  },
  {
   "cell_type": "code",
   "execution_count": 15,
   "metadata": {},
   "outputs": [
    {
     "data": {
      "text/html": [
       "<div>\n",
       "<style scoped>\n",
       "    .dataframe tbody tr th:only-of-type {\n",
       "        vertical-align: middle;\n",
       "    }\n",
       "\n",
       "    .dataframe tbody tr th {\n",
       "        vertical-align: top;\n",
       "    }\n",
       "\n",
       "    .dataframe thead th {\n",
       "        text-align: right;\n",
       "    }\n",
       "</style>\n",
       "<table border=\"1\" class=\"dataframe\">\n",
       "  <thead>\n",
       "    <tr style=\"text-align: right;\">\n",
       "      <th></th>\n",
       "      <th>x1</th>\n",
       "      <th>x2</th>\n",
       "      <th>chute</th>\n",
       "      <th>media</th>\n",
       "    </tr>\n",
       "  </thead>\n",
       "  <tbody>\n",
       "    <tr>\n",
       "      <th>0</th>\n",
       "      <td>-0.153921</td>\n",
       "      <td>1.252577</td>\n",
       "      <td>0.077308</td>\n",
       "      <td>0</td>\n",
       "    </tr>\n",
       "    <tr>\n",
       "      <th>1</th>\n",
       "      <td>0.648468</td>\n",
       "      <td>-0.671130</td>\n",
       "      <td>0.792413</td>\n",
       "      <td>0</td>\n",
       "    </tr>\n",
       "    <tr>\n",
       "      <th>2</th>\n",
       "      <td>0.734132</td>\n",
       "      <td>-1.176308</td>\n",
       "      <td>-0.825415</td>\n",
       "      <td>0</td>\n",
       "    </tr>\n",
       "    <tr>\n",
       "      <th>3</th>\n",
       "      <td>1.620427</td>\n",
       "      <td>-0.620506</td>\n",
       "      <td>0.260826</td>\n",
       "      <td>0</td>\n",
       "    </tr>\n",
       "    <tr>\n",
       "      <th>4</th>\n",
       "      <td>-0.227932</td>\n",
       "      <td>1.043642</td>\n",
       "      <td>-0.050124</td>\n",
       "      <td>0</td>\n",
       "    </tr>\n",
       "    <tr>\n",
       "      <th>...</th>\n",
       "      <td>...</td>\n",
       "      <td>...</td>\n",
       "      <td>...</td>\n",
       "      <td>...</td>\n",
       "    </tr>\n",
       "    <tr>\n",
       "      <th>95</th>\n",
       "      <td>-0.090960</td>\n",
       "      <td>-0.464922</td>\n",
       "      <td>-0.660255</td>\n",
       "      <td>0</td>\n",
       "    </tr>\n",
       "    <tr>\n",
       "      <th>96</th>\n",
       "      <td>-0.519933</td>\n",
       "      <td>0.879777</td>\n",
       "      <td>-0.062622</td>\n",
       "      <td>0</td>\n",
       "    </tr>\n",
       "    <tr>\n",
       "      <th>97</th>\n",
       "      <td>0.444749</td>\n",
       "      <td>1.090813</td>\n",
       "      <td>0.391038</td>\n",
       "      <td>0</td>\n",
       "    </tr>\n",
       "    <tr>\n",
       "      <th>98</th>\n",
       "      <td>1.518598</td>\n",
       "      <td>-0.369088</td>\n",
       "      <td>-0.271719</td>\n",
       "      <td>0</td>\n",
       "    </tr>\n",
       "    <tr>\n",
       "      <th>99</th>\n",
       "      <td>-0.221259</td>\n",
       "      <td>0.992935</td>\n",
       "      <td>-0.189322</td>\n",
       "      <td>0</td>\n",
       "    </tr>\n",
       "  </tbody>\n",
       "</table>\n",
       "<p>100 rows × 4 columns</p>\n",
       "</div>"
      ],
      "text/plain": [
       "          x1        x2     chute  media\n",
       "0  -0.153921  1.252577  0.077308      0\n",
       "1   0.648468 -0.671130  0.792413      0\n",
       "2   0.734132 -1.176308 -0.825415      0\n",
       "3   1.620427 -0.620506  0.260826      0\n",
       "4  -0.227932  1.043642 -0.050124      0\n",
       "..       ...       ...       ...    ...\n",
       "95 -0.090960 -0.464922 -0.660255      0\n",
       "96 -0.519933  0.879777 -0.062622      0\n",
       "97  0.444749  1.090813  0.391038      0\n",
       "98  1.518598 -0.369088 -0.271719      0\n",
       "99 -0.221259  0.992935 -0.189322      0\n",
       "\n",
       "[100 rows x 4 columns]"
      ]
     },
     "execution_count": 15,
     "metadata": {},
     "output_type": "execute_result"
    }
   ],
   "source": [
    "# Criando uma base de dados com 100 linhas e 2 colunas, e valores variando entre 0 e 1\n",
    "df_pre = pd.DataFrame(np.random.normal(0, 1, size=(100, 2)), columns=['x1', 'x2'])\n",
    "# Tentando prever os valores de x1 através de chutes aleatórios e armazenndo os resultados em uma nova coluna 'chute'\n",
    "df_pre[\"chute\"] = np.random.default_rng().uniform(-1, 1, size=(100))\n",
    "# Tentando prever os valores de x1 utilizando a média e armazenando os resultados em uma nova coluna 'media'\n",
    "df_pre[\"media\"] = 0\n",
    "df_pre"
   ]
  },
  {
   "attachments": {},
   "cell_type": "markdown",
   "metadata": {},
   "source": [
    "Para avaliar a acurácia da nossa predição, calculamos o erro quadrado médio (mean squared error, MSE) entre os resultados reais e as nosssas predições. O cálculo é simples, para um ponto, verificamos a diferença entre a predição e o resultado real e elevamos ao quadrado. Este é o erro quadrado daquele ponto. O erro quadrado médio do modelo consiste na média da soma dos quadrados das diferenças entre os resultados reais e os resultados preditos, divididos pelo tamanho da amostra. Em matematiquês:\n",
    "$$MSE=\\frac{1}{N}\\sum_{i=1}^n(Y_i-\\hat{Y}_i)^2$$\n",
    "\n",
    "Usamos a função `mean_squared_error()` da biblioteca scikit_learn para calcular o MSE do nosso modelo."
   ]
  },
  {
   "cell_type": "code",
   "execution_count": 18,
   "metadata": {},
   "outputs": [
    {
     "name": "stdout",
     "output_type": "stream",
     "text": [
      "Erro quadrado médio do chute:  1.1001989590569687\n",
      "Erro quadrado médio da média:  0.8769623347353737\n"
     ]
    }
   ],
   "source": [
    "mse_chute = mean_squared_error(df_pre['x1'], df_pre['chute'])\n",
    "mse_media = mean_squared_error(df_pre['x1'], df_pre['media'])\n",
    "print(\"Erro quadrado médio do chute: \", mse_chute)\n",
    "print(\"Erro quadrado médio da média: \", mse_media)"
   ]
  },
  {
   "cell_type": "code",
   "execution_count": 27,
   "metadata": {},
   "outputs": [
    {
     "data": {
      "text/plain": [
       "[<matplotlib.lines.Line2D at 0x7f0d49e29f40>]"
      ]
     },
     "execution_count": 27,
     "metadata": {},
     "output_type": "execute_result"
    },
    {
     "data": {
      "image/png": "[encoded data removed]",
      "text/plain": [
       "<Figure size 640x480 with 1 Axes>"
      ]
     },
     "metadata": {},
     "output_type": "display_data"
    },
    {
     "data": {
      "image/png": "[encoded data removed]",
      "text/plain": [
       "<Figure size 640x480 with 1 Axes>"
      ]
     },
     "metadata": {},
     "output_type": "display_data"
    },
    {
     "data": {
      "image/png": "[encoded data removed]",
      "text/plain": [
       "<Figure size 640x480 with 1 Axes>"
      ]
     },
     "metadata": {},
     "output_type": "display_data"
    }
   ],
   "source": [
    "df_pre.plot.scatter(x='x1', y='x2', c='blue')\n",
    "df_pre.plot.scatter(x='x1', y='media', c='green')\n",
    "df_pre.plot.scatter(x='x1', y='chute', c='yellow')\n",
    "# desenhe uma linha par a média do grafico acima\n",
    "plt.plot([-3, 3], [0, 0], color='red', linestyle='-')\n"
   ]
  },
  {
   "attachments": {},
   "cell_type": "markdown",
   "metadata": {},
   "source": [
    "# Técnicas de Classificação\n",
    "Os algoritmos de aprendizagem de máquina são comumente dívididos em duas famílias: algoritmos de aprendizagem _supervisionada_ e de aprendizagem _não-supervisionada_. Antes de passarmos ao estudo dos algoritmos de classificação propriamente ditos, é preciso compreender alguns conceitos relacionados a essas diferenças, e para isso vamos recorrer a um exemplo.\n",
    "\n",
    "Imagine que em uma academia de esportes os novos clientes passam por testes físicos para definir a sua afinidade esportiva. Primeiramente, os examinados são submetidos a uma corrida de 100m, e o tempo em segundos é inserido na base de dados como `var1`. Em seguinda, os examinados precisam correr uma longa distância e o tempo em segundos é inserido na base de dados como `var2`. Por fim, os candidatos precisam levantar pesos, e o peso máximo levantado em kgs é inserido na base de dados como `var3`. Perceba que esses dados por si só não têm capacidade de indicar a afinidade esportiva de um candidato.\n",
    "\n",
    "Almejando obter mais informação sobre os examinados, um profissional de educação física sugere renomear as colunas `var1`, `var2` e `var3` para `velocidade`, `resistência` e `força`, respectivamente. Além disso, foi criada uma variável nova, chamada `aptidao`, onde cada observação poderia receber uma das seguintes categorias `atletismo`, `futebol`, `fisiculturismo`, e o profissional atribuiu à cada cliente uma categoria com base nos seus resultados.\n",
    "\n",
    "Note que ao fazer isso foi introduzido significado para as variáveis, possibilitando a análise da variável `aptidao` em _relação às demais_. Essa variável `aptidao` é a etiqueta (ou label) dos dados para o problema posto. Note que a etiqueta de um conjunto de dados depende do problema a ser resolvido, e um mesmo conjunto pode ser considerado etiquetado, ou não, dependendo do que se deseja analisar.\n",
    "\n",
    "Fundamentalmente os algorítmos de aprendizagem não supervisionada se preocupam com tarefas de _agrupamento_, _etiquetagem_, e de _redução de dimensionalidade_ aplicados em dados não etiquetados, habitualmente empregados em uma fase preparatória, anterior à aplicação de algoritmos de aprendizagem supervisionada.\n",
    "\n",
    "Os algoritmos de aprendizagem supervisionada, por sua vez, são empregados para resolver dois tipos de problema: __regressão__ e __classificação__.\n",
    "\n",
    "Os algoritmos de regressão se encarregam de receber dados e fornecer uma variável contínua (um número real) como saída. Por exemplo, dado que o cliente x correu 100m em 20 segundos, ele é estimado a correr a longa distância em x segundos. O algoritmo mais conhecido dessa família é a regressão linear.\n",
    "\n",
    "Por sua vez, os algoritmos de classificação se ocupam das variáveis categóricas discretas, um estado dentre um número finito de possibilidades. Por exemplo, dado os resultados das outras variáveis, o melhor esporte para o cliente é: `fisiculturismo`. Um algoritmo bastante conhecido dessa família é a árvore de decisão.\n",
    "\n",
    "Nesta apresentação serão abordados os seguintes algoritmos de classificação:\n",
    "* Regressão Logística\n",
    "* Support Vector Machine (SVM)\n",
    "* Árvore de Decisão (Decision Tree)\n",
    "* Floresta Aleatória (Random Forest)\n"
   ]
  },
  {
   "attachments": {},
   "cell_type": "markdown",
   "metadata": {},
   "source": [
    "## Criando o exemplo em código\n",
    "Iniciamos com a importação das bibliotecas. Note que `pandas`, `numpy` e `matplotlib` são usados na grande maioria dos casos quando utilizamos a linguagem Python, portanto, aprender a utilizar essas bibliotecas é fundamental.\n",
    "> Uma tarefa importante no estudo de machine learning é a criação de exemplos, tanto dos dados, quanto dos algoritmos. Ser capaz de construir um conjunto ficcional de dados é importante para a demonstração de técnicas de implementação, e construir os algoritmos a partir do zero é importante para desenvolver a intuição por trás dos algoritmos."
   ]
  },
  {
   "cell_type": "code",
   "execution_count": 1,
   "metadata": {},
   "outputs": [],
   "source": [
    "# Importando as bibliotecas\n",
    "import numpy as np\n",
    "import pandas as pd\n",
    "from matplotlib import pyplot as plt"
   ]
  },
  {
   "cell_type": "code",
   "execution_count": 11,
   "metadata": {},
   "outputs": [
    {
     "data": {
      "text/html": [
       "<div>\n",
       "<style scoped>\n",
       "    .dataframe tbody tr th:only-of-type {\n",
       "        vertical-align: middle;\n",
       "    }\n",
       "\n",
       "    .dataframe tbody tr th {\n",
       "        vertical-align: top;\n",
       "    }\n",
       "\n",
       "    .dataframe thead th {\n",
       "        text-align: right;\n",
       "    }\n",
       "</style>\n",
       "<table border=\"1\" class=\"dataframe\">\n",
       "  <thead>\n",
       "    <tr style=\"text-align: right;\">\n",
       "      <th></th>\n",
       "      <th>velocidade (s)</th>\n",
       "      <th>resistencia (s)</th>\n",
       "      <th>potencia (kg)</th>\n",
       "    </tr>\n",
       "  </thead>\n",
       "  <tbody>\n",
       "    <tr>\n",
       "      <th>0</th>\n",
       "      <td>17.705883</td>\n",
       "      <td>12605.733962</td>\n",
       "      <td>58.507884</td>\n",
       "    </tr>\n",
       "    <tr>\n",
       "      <th>1</th>\n",
       "      <td>11.850664</td>\n",
       "      <td>2625.083358</td>\n",
       "      <td>63.531764</td>\n",
       "    </tr>\n",
       "    <tr>\n",
       "      <th>2</th>\n",
       "      <td>9.837331</td>\n",
       "      <td>3147.160266</td>\n",
       "      <td>97.628038</td>\n",
       "    </tr>\n",
       "    <tr>\n",
       "      <th>3</th>\n",
       "      <td>14.534138</td>\n",
       "      <td>4987.091635</td>\n",
       "      <td>26.115009</td>\n",
       "    </tr>\n",
       "    <tr>\n",
       "      <th>4</th>\n",
       "      <td>9.485052</td>\n",
       "      <td>5295.917984</td>\n",
       "      <td>146.136291</td>\n",
       "    </tr>\n",
       "  </tbody>\n",
       "</table>\n",
       "</div>"
      ],
      "text/plain": [
       "   velocidade (s)  resistencia (s)  potencia (kg)\n",
       "0       17.705883     12605.733962      58.507884\n",
       "1       11.850664      2625.083358      63.531764\n",
       "2        9.837331      3147.160266      97.628038\n",
       "3       14.534138      4987.091635      26.115009\n",
       "4        9.485052      5295.917984     146.136291"
      ]
     },
     "execution_count": 11,
     "metadata": {},
     "output_type": "execute_result"
    }
   ],
   "source": [
    "# Usando a distribuição normal para gerar dados aleatórios\n",
    "velocidade = np.random.normal(14, 5, 100)\n",
    "resisencia = np.random.normal(6180, 2760, 100)\n",
    "potencia = np.random.normal(70, 50, 100)\n",
    "df= pd.DataFrame({'velocidade (s)': velocidade, 'resistencia (s)': resisencia, 'potencia (kg)': potencia})\n",
    "df.head()"
   ]
  },
  {
   "cell_type": "code",
   "execution_count": null,
   "metadata": {},
   "outputs": [],
   "source": []
  }
 ],
 "metadata": {
  "kernelspec": {
   "display_name": "py310",
   "language": "python",
   "name": "python3"
  },
  "language_info": {
   "codemirror_mode": {
    "name": "ipython",
    "version": 3
   },
   "file_extension": ".py",
   "mimetype": "text/x-python",
   "name": "python",
   "nbconvert_exporter": "python",
   "pygments_lexer": "ipython3",
   "version": "3.9.13"
  },
  "orig_nbformat": 4
 },
 "nbformat": 4,
 "nbformat_minor": 2
}
